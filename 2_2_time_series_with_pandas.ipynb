{
  "nbformat": 4,
  "nbformat_minor": 0,
  "metadata": {
    "kernelspec": {
      "display_name": "Python 3",
      "language": "python",
      "name": "python3"
    },
    "language_info": {
      "codemirror_mode": {
        "name": "ipython",
        "version": 3
      },
      "file_extension": ".py",
      "mimetype": "text/x-python",
      "name": "python",
      "nbconvert_exporter": "python",
      "pygments_lexer": "ipython3",
      "version": "3.6.7"
    },
    "colab": {
      "name": "2.2.time series with pandas.ipynb",
      "provenance": [],
      "include_colab_link": true
    }
  },
  "cells": [
    {
      "cell_type": "markdown",
      "metadata": {
        "id": "view-in-github",
        "colab_type": "text"
      },
      "source": [
        "<a href=\"https://colab.research.google.com/github/Seo-H/quant/blob/master/2_2_time_series_with_pandas.ipynb\" target=\"_parent\"><img src=\"https://colab.research.google.com/assets/colab-badge.svg\" alt=\"Open In Colab\"/></a>"
      ]
    },
    {
      "cell_type": "markdown",
      "metadata": {
        "id": "08UmE0miMnqL",
        "colab_type": "text"
      },
      "source": [
        "# 2.2 금융 데이터 전처리&분석을 위한 판다스 pandas 사용법.\n",
        "\n",
        "## 2.2.1. 데이터 불러오기"
      ]
    },
    {
      "cell_type": "code",
      "metadata": {
        "id": "5DGoo82fMnqO",
        "colab_type": "code",
        "colab": {}
      },
      "source": [
        "import pandas as pd\n",
        "df = pd.read_csv('../data/stock/AAPL.csv')"
      ],
      "execution_count": null,
      "outputs": []
    },
    {
      "cell_type": "code",
      "metadata": {
        "id": "zESlbNLBMnqS",
        "colab_type": "code",
        "colab": {},
        "outputId": "8b84f87f-b80c-4483-fe41-226f91054322"
      },
      "source": [
        "df.head()"
      ],
      "execution_count": null,
      "outputs": [
        {
          "output_type": "execute_result",
          "data": {
            "text/html": [
              "<div>\n",
              "<style scoped>\n",
              "    .dataframe tbody tr th:only-of-type {\n",
              "        vertical-align: middle;\n",
              "    }\n",
              "\n",
              "    .dataframe tbody tr th {\n",
              "        vertical-align: top;\n",
              "    }\n",
              "\n",
              "    .dataframe thead th {\n",
              "        text-align: right;\n",
              "    }\n",
              "</style>\n",
              "<table border=\"1\" class=\"dataframe\">\n",
              "  <thead>\n",
              "    <tr style=\"text-align: right;\">\n",
              "      <th></th>\n",
              "      <th>Date</th>\n",
              "      <th>Open</th>\n",
              "      <th>High</th>\n",
              "      <th>Low</th>\n",
              "      <th>Close</th>\n",
              "      <th>Adj Close</th>\n",
              "      <th>Volume</th>\n",
              "    </tr>\n",
              "  </thead>\n",
              "  <tbody>\n",
              "    <tr>\n",
              "      <th>0</th>\n",
              "      <td>1980-12-12</td>\n",
              "      <td>0.513393</td>\n",
              "      <td>0.515625</td>\n",
              "      <td>0.513393</td>\n",
              "      <td>0.513393</td>\n",
              "      <td>0.410525</td>\n",
              "      <td>117258400.0</td>\n",
              "    </tr>\n",
              "    <tr>\n",
              "      <th>1</th>\n",
              "      <td>1980-12-15</td>\n",
              "      <td>0.488839</td>\n",
              "      <td>0.488839</td>\n",
              "      <td>0.486607</td>\n",
              "      <td>0.486607</td>\n",
              "      <td>0.389106</td>\n",
              "      <td>43971200.0</td>\n",
              "    </tr>\n",
              "    <tr>\n",
              "      <th>2</th>\n",
              "      <td>1980-12-16</td>\n",
              "      <td>0.453125</td>\n",
              "      <td>0.453125</td>\n",
              "      <td>0.450893</td>\n",
              "      <td>0.450893</td>\n",
              "      <td>0.360548</td>\n",
              "      <td>26432000.0</td>\n",
              "    </tr>\n",
              "    <tr>\n",
              "      <th>3</th>\n",
              "      <td>1980-12-17</td>\n",
              "      <td>0.462054</td>\n",
              "      <td>0.464286</td>\n",
              "      <td>0.462054</td>\n",
              "      <td>0.462054</td>\n",
              "      <td>0.369472</td>\n",
              "      <td>21610400.0</td>\n",
              "    </tr>\n",
              "    <tr>\n",
              "      <th>4</th>\n",
              "      <td>1980-12-18</td>\n",
              "      <td>0.475446</td>\n",
              "      <td>0.477679</td>\n",
              "      <td>0.475446</td>\n",
              "      <td>0.475446</td>\n",
              "      <td>0.380182</td>\n",
              "      <td>18362400.0</td>\n",
              "    </tr>\n",
              "  </tbody>\n",
              "</table>\n",
              "</div>"
            ],
            "text/plain": [
              "         Date      Open      High       Low     Close  Adj Close       Volume\n",
              "0  1980-12-12  0.513393  0.515625  0.513393  0.513393   0.410525  117258400.0\n",
              "1  1980-12-15  0.488839  0.488839  0.486607  0.486607   0.389106   43971200.0\n",
              "2  1980-12-16  0.453125  0.453125  0.450893  0.450893   0.360548   26432000.0\n",
              "3  1980-12-17  0.462054  0.464286  0.462054  0.462054   0.369472   21610400.0\n",
              "4  1980-12-18  0.475446  0.477679  0.475446  0.475446   0.380182   18362400.0"
            ]
          },
          "metadata": {
            "tags": []
          },
          "execution_count": 3
        }
      ]
    },
    {
      "cell_type": "code",
      "metadata": {
        "id": "yhh6j7b3MnqW",
        "colab_type": "code",
        "colab": {},
        "outputId": "4f8ea109-8b8d-4c07-c4bd-9d3c6f67358c"
      },
      "source": [
        "print(type(df.index))\n",
        "print(type(df.index[0]))"
      ],
      "execution_count": null,
      "outputs": [
        {
          "output_type": "stream",
          "text": [
            "<class 'pandas.core.indexes.range.RangeIndex'>\n",
            "<class 'int'>\n"
          ],
          "name": "stdout"
        }
      ]
    },
    {
      "cell_type": "code",
      "metadata": {
        "id": "KU7C57SqMnqY",
        "colab_type": "code",
        "colab": {},
        "outputId": "4a1ce038-678e-45ff-8da2-bfa45bd6e63a"
      },
      "source": [
        "type(df['Date'][0])"
      ],
      "execution_count": null,
      "outputs": [
        {
          "output_type": "execute_result",
          "data": {
            "text/plain": [
              "str"
            ]
          },
          "metadata": {
            "tags": []
          },
          "execution_count": 5
        }
      ]
    },
    {
      "cell_type": "code",
      "metadata": {
        "id": "dNvKbCIgMnqb",
        "colab_type": "code",
        "colab": {}
      },
      "source": [
        "for col in df.columns:\n",
        "    series = df[col]"
      ],
      "execution_count": null,
      "outputs": []
    },
    {
      "cell_type": "code",
      "metadata": {
        "id": "scZuGDOpMnqf",
        "colab_type": "code",
        "colab": {},
        "outputId": "f2ca9933-647d-45c8-bc46-e3c835c3e016"
      },
      "source": [
        "series"
      ],
      "execution_count": null,
      "outputs": [
        {
          "output_type": "execute_result",
          "data": {
            "text/plain": [
              "0       117258400.0\n",
              "1        43971200.0\n",
              "2        26432000.0\n",
              "3        21610400.0\n",
              "4        18362400.0\n",
              "           ...     \n",
              "9710     26551000.0\n",
              "9711     21124200.0\n",
              "9712     21514000.0\n",
              "9713     47735300.0\n",
              "9714      9025362.0\n",
              "Name: Volume, Length: 9715, dtype: float64"
            ]
          },
          "metadata": {
            "tags": []
          },
          "execution_count": 8
        }
      ]
    },
    {
      "cell_type": "markdown",
      "metadata": {
        "id": "loqaYVOZMnqi",
        "colab_type": "text"
      },
      "source": [
        "* parse_dates 매개변수를 사용하여 'Date' 컬럼을 timestamp타입으로 변환한다.\n",
        "* index_col 매개변수를 사용하여 'Date' 컬럼을 dataframe의 index로 지정한다."
      ]
    },
    {
      "cell_type": "code",
      "metadata": {
        "id": "X1VCu5t2Mnqj",
        "colab_type": "code",
        "colab": {}
      },
      "source": [
        "aapl_df = pd.read_csv('../data/us_etf_data/AAPL.csv',index_col='Date', parse_dates=['Date'])"
      ],
      "execution_count": null,
      "outputs": []
    },
    {
      "cell_type": "code",
      "metadata": {
        "id": "plq3vitiMnqm",
        "colab_type": "code",
        "colab": {},
        "outputId": "8d842c9d-6709-4eab-c097-6faaec9654dc"
      },
      "source": [
        "aapl_df.head()"
      ],
      "execution_count": null,
      "outputs": [
        {
          "output_type": "execute_result",
          "data": {
            "text/html": [
              "<div>\n",
              "<style scoped>\n",
              "    .dataframe tbody tr th:only-of-type {\n",
              "        vertical-align: middle;\n",
              "    }\n",
              "\n",
              "    .dataframe tbody tr th {\n",
              "        vertical-align: top;\n",
              "    }\n",
              "\n",
              "    .dataframe thead th {\n",
              "        text-align: right;\n",
              "    }\n",
              "</style>\n",
              "<table border=\"1\" class=\"dataframe\">\n",
              "  <thead>\n",
              "    <tr style=\"text-align: right;\">\n",
              "      <th></th>\n",
              "      <th>Open</th>\n",
              "      <th>High</th>\n",
              "      <th>Low</th>\n",
              "      <th>Close</th>\n",
              "      <th>Adj Close</th>\n",
              "      <th>Volume</th>\n",
              "    </tr>\n",
              "    <tr>\n",
              "      <th>Date</th>\n",
              "      <th></th>\n",
              "      <th></th>\n",
              "      <th></th>\n",
              "      <th></th>\n",
              "      <th></th>\n",
              "      <th></th>\n",
              "    </tr>\n",
              "  </thead>\n",
              "  <tbody>\n",
              "    <tr>\n",
              "      <th>1980-12-12</th>\n",
              "      <td>0.513393</td>\n",
              "      <td>0.515625</td>\n",
              "      <td>0.513393</td>\n",
              "      <td>0.513393</td>\n",
              "      <td>0.410525</td>\n",
              "      <td>117258400.0</td>\n",
              "    </tr>\n",
              "    <tr>\n",
              "      <th>1980-12-15</th>\n",
              "      <td>0.488839</td>\n",
              "      <td>0.488839</td>\n",
              "      <td>0.486607</td>\n",
              "      <td>0.486607</td>\n",
              "      <td>0.389106</td>\n",
              "      <td>43971200.0</td>\n",
              "    </tr>\n",
              "    <tr>\n",
              "      <th>1980-12-16</th>\n",
              "      <td>0.453125</td>\n",
              "      <td>0.453125</td>\n",
              "      <td>0.450893</td>\n",
              "      <td>0.450893</td>\n",
              "      <td>0.360548</td>\n",
              "      <td>26432000.0</td>\n",
              "    </tr>\n",
              "    <tr>\n",
              "      <th>1980-12-17</th>\n",
              "      <td>0.462054</td>\n",
              "      <td>0.464286</td>\n",
              "      <td>0.462054</td>\n",
              "      <td>0.462054</td>\n",
              "      <td>0.369472</td>\n",
              "      <td>21610400.0</td>\n",
              "    </tr>\n",
              "    <tr>\n",
              "      <th>1980-12-18</th>\n",
              "      <td>0.475446</td>\n",
              "      <td>0.477679</td>\n",
              "      <td>0.475446</td>\n",
              "      <td>0.475446</td>\n",
              "      <td>0.380182</td>\n",
              "      <td>18362400.0</td>\n",
              "    </tr>\n",
              "  </tbody>\n",
              "</table>\n",
              "</div>"
            ],
            "text/plain": [
              "                Open      High       Low     Close  Adj Close       Volume\n",
              "Date                                                                      \n",
              "1980-12-12  0.513393  0.515625  0.513393  0.513393   0.410525  117258400.0\n",
              "1980-12-15  0.488839  0.488839  0.486607  0.486607   0.389106   43971200.0\n",
              "1980-12-16  0.453125  0.453125  0.450893  0.450893   0.360548   26432000.0\n",
              "1980-12-17  0.462054  0.464286  0.462054  0.462054   0.369472   21610400.0\n",
              "1980-12-18  0.475446  0.477679  0.475446  0.475446   0.380182   18362400.0"
            ]
          },
          "metadata": {
            "tags": []
          },
          "execution_count": 10
        }
      ]
    },
    {
      "cell_type": "code",
      "metadata": {
        "id": "l5ttQ8iNMnqo",
        "colab_type": "code",
        "colab": {},
        "outputId": "0971b0ba-030f-438b-a06a-eebe4649b0ab"
      },
      "source": [
        "print(aapl_df.head())\n",
        "print(type(aapl_df.index))\n",
        "print(type(aapl_df.index[0]))"
      ],
      "execution_count": null,
      "outputs": [
        {
          "output_type": "stream",
          "text": [
            "                Open      High       Low     Close  Adj Close       Volume\n",
            "Date                                                                      \n",
            "1980-12-12  0.513393  0.515625  0.513393  0.513393   0.410525  117258400.0\n",
            "1980-12-15  0.488839  0.488839  0.486607  0.486607   0.389106   43971200.0\n",
            "1980-12-16  0.453125  0.453125  0.450893  0.450893   0.360548   26432000.0\n",
            "1980-12-17  0.462054  0.464286  0.462054  0.462054   0.369472   21610400.0\n",
            "1980-12-18  0.475446  0.477679  0.475446  0.475446   0.380182   18362400.0\n",
            "<class 'pandas.core.indexes.datetimes.DatetimeIndex'>\n",
            "<class 'pandas._libs.tslibs.timestamps.Timestamp'>\n"
          ],
          "name": "stdout"
        }
      ]
    },
    {
      "cell_type": "code",
      "metadata": {
        "id": "4WzgyiUWMnqr",
        "colab_type": "code",
        "colab": {},
        "outputId": "96719f0b-e2b9-4918-9ad1-8ef9478634c6"
      },
      "source": [
        "print(type(aapl_df.index[0]))\n",
        "print(type(aapl_df.index))"
      ],
      "execution_count": null,
      "outputs": [
        {
          "output_type": "stream",
          "text": [
            "<class 'pandas._libs.tslibs.timestamps.Timestamp'>\n",
            "<class 'pandas.core.indexes.datetimes.DatetimeIndex'>\n"
          ],
          "name": "stdout"
        }
      ]
    },
    {
      "cell_type": "markdown",
      "metadata": {
        "id": "x4srzC4oMnqu",
        "colab_type": "text"
      },
      "source": [
        "## 2.2.2 에러의 주된 원인을 처리하자\n",
        "\n",
        "\n",
        "* objective : Cleaning and preparing time series data\n",
        "1. 누락데이터가 있는지 확인한다. \n",
        "  - 어떻게 확인하는가?\n",
        "2. 누락 데이터는 fillna(method='ffill')"
      ]
    },
    {
      "cell_type": "code",
      "metadata": {
        "id": "amUMQ-_jMnqv",
        "colab_type": "code",
        "colab": {},
        "outputId": "24c12d48-0929-4bda-dd0c-d24d0f784aa0"
      },
      "source": [
        "import pandas as pd\n",
        "import numpy as np\n",
        "s1 = pd.Series([1,np.nan,3,4,5])\n",
        "s2 = pd.Series([1,2,np.nan,4,5])\n",
        "s3 = pd.Series([1,2,3,np.nan,5])\n",
        "df = pd.DataFrame({'S1':s1,\n",
        "                  'S2':s2,\n",
        "                  'S3':s3\n",
        "                  })\n",
        "df.head()"
      ],
      "execution_count": null,
      "outputs": [
        {
          "output_type": "execute_result",
          "data": {
            "text/html": [
              "<div>\n",
              "<style scoped>\n",
              "    .dataframe tbody tr th:only-of-type {\n",
              "        vertical-align: middle;\n",
              "    }\n",
              "\n",
              "    .dataframe tbody tr th {\n",
              "        vertical-align: top;\n",
              "    }\n",
              "\n",
              "    .dataframe thead th {\n",
              "        text-align: right;\n",
              "    }\n",
              "</style>\n",
              "<table border=\"1\" class=\"dataframe\">\n",
              "  <thead>\n",
              "    <tr style=\"text-align: right;\">\n",
              "      <th></th>\n",
              "      <th>S1</th>\n",
              "      <th>S2</th>\n",
              "      <th>S3</th>\n",
              "    </tr>\n",
              "  </thead>\n",
              "  <tbody>\n",
              "    <tr>\n",
              "      <td>0</td>\n",
              "      <td>1.0</td>\n",
              "      <td>1.0</td>\n",
              "      <td>1.0</td>\n",
              "    </tr>\n",
              "    <tr>\n",
              "      <td>1</td>\n",
              "      <td>NaN</td>\n",
              "      <td>2.0</td>\n",
              "      <td>2.0</td>\n",
              "    </tr>\n",
              "    <tr>\n",
              "      <td>2</td>\n",
              "      <td>3.0</td>\n",
              "      <td>NaN</td>\n",
              "      <td>3.0</td>\n",
              "    </tr>\n",
              "    <tr>\n",
              "      <td>3</td>\n",
              "      <td>4.0</td>\n",
              "      <td>4.0</td>\n",
              "      <td>NaN</td>\n",
              "    </tr>\n",
              "    <tr>\n",
              "      <td>4</td>\n",
              "      <td>5.0</td>\n",
              "      <td>5.0</td>\n",
              "      <td>5.0</td>\n",
              "    </tr>\n",
              "  </tbody>\n",
              "</table>\n",
              "</div>"
            ],
            "text/plain": [
              "    S1   S2   S3\n",
              "0  1.0  1.0  1.0\n",
              "1  NaN  2.0  2.0\n",
              "2  3.0  NaN  3.0\n",
              "3  4.0  4.0  NaN\n",
              "4  5.0  5.0  5.0"
            ]
          },
          "metadata": {
            "tags": []
          },
          "execution_count": 32
        }
      ]
    },
    {
      "cell_type": "code",
      "metadata": {
        "id": "7kGI6O9AMnq0",
        "colab_type": "code",
        "colab": {},
        "outputId": "30970644-ba13-4d79-f299-5e69626c4104"
      },
      "source": [
        "df['S1'].isna()"
      ],
      "execution_count": null,
      "outputs": [
        {
          "output_type": "execute_result",
          "data": {
            "text/plain": [
              "0    False\n",
              "1     True\n",
              "2    False\n",
              "3    False\n",
              "4    False\n",
              "Name: S1, dtype: bool"
            ]
          },
          "metadata": {
            "tags": []
          },
          "execution_count": 33
        }
      ]
    },
    {
      "cell_type": "code",
      "metadata": {
        "id": "Ec-NtlryMnq2",
        "colab_type": "code",
        "colab": {},
        "outputId": "55430ae5-423d-4cd0-b851-b46ea364ab54"
      },
      "source": [
        "df.isna()"
      ],
      "execution_count": null,
      "outputs": [
        {
          "output_type": "execute_result",
          "data": {
            "text/html": [
              "<div>\n",
              "<style scoped>\n",
              "    .dataframe tbody tr th:only-of-type {\n",
              "        vertical-align: middle;\n",
              "    }\n",
              "\n",
              "    .dataframe tbody tr th {\n",
              "        vertical-align: top;\n",
              "    }\n",
              "\n",
              "    .dataframe thead th {\n",
              "        text-align: right;\n",
              "    }\n",
              "</style>\n",
              "<table border=\"1\" class=\"dataframe\">\n",
              "  <thead>\n",
              "    <tr style=\"text-align: right;\">\n",
              "      <th></th>\n",
              "      <th>S1</th>\n",
              "      <th>S2</th>\n",
              "      <th>S3</th>\n",
              "    </tr>\n",
              "  </thead>\n",
              "  <tbody>\n",
              "    <tr>\n",
              "      <td>0</td>\n",
              "      <td>False</td>\n",
              "      <td>False</td>\n",
              "      <td>False</td>\n",
              "    </tr>\n",
              "    <tr>\n",
              "      <td>1</td>\n",
              "      <td>True</td>\n",
              "      <td>False</td>\n",
              "      <td>False</td>\n",
              "    </tr>\n",
              "    <tr>\n",
              "      <td>2</td>\n",
              "      <td>False</td>\n",
              "      <td>True</td>\n",
              "      <td>False</td>\n",
              "    </tr>\n",
              "    <tr>\n",
              "      <td>3</td>\n",
              "      <td>False</td>\n",
              "      <td>False</td>\n",
              "      <td>True</td>\n",
              "    </tr>\n",
              "    <tr>\n",
              "      <td>4</td>\n",
              "      <td>False</td>\n",
              "      <td>False</td>\n",
              "      <td>False</td>\n",
              "    </tr>\n",
              "  </tbody>\n",
              "</table>\n",
              "</div>"
            ],
            "text/plain": [
              "      S1     S2     S3\n",
              "0  False  False  False\n",
              "1   True  False  False\n",
              "2  False   True  False\n",
              "3  False  False   True\n",
              "4  False  False  False"
            ]
          },
          "metadata": {
            "tags": []
          },
          "execution_count": 34
        }
      ]
    },
    {
      "cell_type": "code",
      "metadata": {
        "id": "m70vV2o3Mnq5",
        "colab_type": "code",
        "colab": {},
        "outputId": "b14b91c5-9fe2-40d8-e7c6-3cbb5449d45f"
      },
      "source": [
        "True == 1"
      ],
      "execution_count": null,
      "outputs": [
        {
          "output_type": "execute_result",
          "data": {
            "text/plain": [
              "True"
            ]
          },
          "metadata": {
            "tags": []
          },
          "execution_count": 35
        }
      ]
    },
    {
      "cell_type": "code",
      "metadata": {
        "id": "CYkM8eRdMnq7",
        "colab_type": "code",
        "colab": {},
        "outputId": "1b5f7ecb-037b-4864-f192-7c70677b5a84"
      },
      "source": [
        "False == 0"
      ],
      "execution_count": null,
      "outputs": [
        {
          "output_type": "execute_result",
          "data": {
            "text/plain": [
              "True"
            ]
          },
          "metadata": {
            "tags": []
          },
          "execution_count": 36
        }
      ]
    },
    {
      "cell_type": "code",
      "metadata": {
        "id": "ad_ofYUbMnq-",
        "colab_type": "code",
        "colab": {},
        "outputId": "fc28d2bf-deb7-4f41-f203-d7c201383600"
      },
      "source": [
        "True == 0"
      ],
      "execution_count": null,
      "outputs": [
        {
          "output_type": "execute_result",
          "data": {
            "text/plain": [
              "False"
            ]
          },
          "metadata": {
            "tags": []
          },
          "execution_count": 37
        }
      ]
    },
    {
      "cell_type": "code",
      "metadata": {
        "id": "KNC5r32mMnrC",
        "colab_type": "code",
        "colab": {},
        "outputId": "4d0561c8-e9a1-4d81-bfed-4d3bd56445ce"
      },
      "source": [
        "False == 1"
      ],
      "execution_count": null,
      "outputs": [
        {
          "output_type": "execute_result",
          "data": {
            "text/plain": [
              "False"
            ]
          },
          "metadata": {
            "tags": []
          },
          "execution_count": 38
        }
      ]
    },
    {
      "cell_type": "code",
      "metadata": {
        "id": "76oT6c9mMnrH",
        "colab_type": "code",
        "colab": {},
        "outputId": "0a073b40-4f54-4623-b9db-fb3beece3d92"
      },
      "source": [
        "df.isna().sum()"
      ],
      "execution_count": null,
      "outputs": [
        {
          "output_type": "execute_result",
          "data": {
            "text/plain": [
              "S1    1\n",
              "S2    1\n",
              "S3    1\n",
              "dtype: int64"
            ]
          },
          "metadata": {
            "tags": []
          },
          "execution_count": 39
        }
      ]
    },
    {
      "cell_type": "code",
      "metadata": {
        "id": "H5dcY92RMnrJ",
        "colab_type": "code",
        "colab": {},
        "outputId": "a3bdbfa5-3d82-4d25-8910-1cde19012616"
      },
      "source": [
        "df.count()"
      ],
      "execution_count": null,
      "outputs": [
        {
          "output_type": "execute_result",
          "data": {
            "text/plain": [
              "S1    4\n",
              "S2    4\n",
              "S3    4\n",
              "dtype: int64"
            ]
          },
          "metadata": {
            "tags": []
          },
          "execution_count": 40
        }
      ]
    },
    {
      "cell_type": "code",
      "metadata": {
        "id": "ij-44vWcMnrL",
        "colab_type": "code",
        "colab": {},
        "outputId": "d8246b5d-436c-48cf-e46b-a086000f8f56"
      },
      "source": [
        "df.isna().count"
      ],
      "execution_count": null,
      "outputs": [
        {
          "output_type": "execute_result",
          "data": {
            "text/plain": [
              "<bound method DataFrame.count of       S1     S2     S3\n",
              "0  False  False  False\n",
              "1   True  False  False\n",
              "2  False   True  False\n",
              "3  False  False   True\n",
              "4  False  False  False>"
            ]
          },
          "metadata": {
            "tags": []
          },
          "execution_count": 41
        }
      ]
    },
    {
      "cell_type": "code",
      "metadata": {
        "id": "9Thcq8sfMnrN",
        "colab_type": "code",
        "colab": {},
        "outputId": "d94cd666-1a8c-47e6-d439-2aa5251ecf9d"
      },
      "source": [
        "df.isin([np.nan])"
      ],
      "execution_count": null,
      "outputs": [
        {
          "output_type": "execute_result",
          "data": {
            "text/html": [
              "<div>\n",
              "<style scoped>\n",
              "    .dataframe tbody tr th:only-of-type {\n",
              "        vertical-align: middle;\n",
              "    }\n",
              "\n",
              "    .dataframe tbody tr th {\n",
              "        vertical-align: top;\n",
              "    }\n",
              "\n",
              "    .dataframe thead th {\n",
              "        text-align: right;\n",
              "    }\n",
              "</style>\n",
              "<table border=\"1\" class=\"dataframe\">\n",
              "  <thead>\n",
              "    <tr style=\"text-align: right;\">\n",
              "      <th></th>\n",
              "      <th>S1</th>\n",
              "      <th>S2</th>\n",
              "      <th>S3</th>\n",
              "    </tr>\n",
              "  </thead>\n",
              "  <tbody>\n",
              "    <tr>\n",
              "      <td>0</td>\n",
              "      <td>False</td>\n",
              "      <td>False</td>\n",
              "      <td>False</td>\n",
              "    </tr>\n",
              "    <tr>\n",
              "      <td>1</td>\n",
              "      <td>True</td>\n",
              "      <td>False</td>\n",
              "      <td>False</td>\n",
              "    </tr>\n",
              "    <tr>\n",
              "      <td>2</td>\n",
              "      <td>False</td>\n",
              "      <td>True</td>\n",
              "      <td>False</td>\n",
              "    </tr>\n",
              "    <tr>\n",
              "      <td>3</td>\n",
              "      <td>False</td>\n",
              "      <td>False</td>\n",
              "      <td>True</td>\n",
              "    </tr>\n",
              "    <tr>\n",
              "      <td>4</td>\n",
              "      <td>False</td>\n",
              "      <td>False</td>\n",
              "      <td>False</td>\n",
              "    </tr>\n",
              "  </tbody>\n",
              "</table>\n",
              "</div>"
            ],
            "text/plain": [
              "      S1     S2     S3\n",
              "0  False  False  False\n",
              "1   True  False  False\n",
              "2  False   True  False\n",
              "3  False  False   True\n",
              "4  False  False  False"
            ]
          },
          "metadata": {
            "tags": []
          },
          "execution_count": 42
        }
      ]
    },
    {
      "cell_type": "code",
      "metadata": {
        "id": "KCbcUHnSMnrR",
        "colab_type": "code",
        "colab": {},
        "outputId": "b324c06c-b215-48dc-923d-27e4675fbdb2"
      },
      "source": [
        "df.isin([np.nan]).sum()"
      ],
      "execution_count": null,
      "outputs": [
        {
          "output_type": "execute_result",
          "data": {
            "text/plain": [
              "S1    1\n",
              "S2    1\n",
              "S3    1\n",
              "dtype: int64"
            ]
          },
          "metadata": {
            "tags": []
          },
          "execution_count": 43
        }
      ]
    },
    {
      "cell_type": "code",
      "metadata": {
        "id": "CBRTXoVsMnrT",
        "colab_type": "code",
        "colab": {},
        "outputId": "82e03589-5120-4bcd-e18a-ed239f698a23"
      },
      "source": [
        "df.isnull()"
      ],
      "execution_count": null,
      "outputs": [
        {
          "output_type": "execute_result",
          "data": {
            "text/html": [
              "<div>\n",
              "<style scoped>\n",
              "    .dataframe tbody tr th:only-of-type {\n",
              "        vertical-align: middle;\n",
              "    }\n",
              "\n",
              "    .dataframe tbody tr th {\n",
              "        vertical-align: top;\n",
              "    }\n",
              "\n",
              "    .dataframe thead th {\n",
              "        text-align: right;\n",
              "    }\n",
              "</style>\n",
              "<table border=\"1\" class=\"dataframe\">\n",
              "  <thead>\n",
              "    <tr style=\"text-align: right;\">\n",
              "      <th></th>\n",
              "      <th>S1</th>\n",
              "      <th>S2</th>\n",
              "      <th>S3</th>\n",
              "    </tr>\n",
              "  </thead>\n",
              "  <tbody>\n",
              "    <tr>\n",
              "      <td>0</td>\n",
              "      <td>False</td>\n",
              "      <td>False</td>\n",
              "      <td>False</td>\n",
              "    </tr>\n",
              "    <tr>\n",
              "      <td>1</td>\n",
              "      <td>True</td>\n",
              "      <td>False</td>\n",
              "      <td>False</td>\n",
              "    </tr>\n",
              "    <tr>\n",
              "      <td>2</td>\n",
              "      <td>False</td>\n",
              "      <td>True</td>\n",
              "      <td>False</td>\n",
              "    </tr>\n",
              "    <tr>\n",
              "      <td>3</td>\n",
              "      <td>False</td>\n",
              "      <td>False</td>\n",
              "      <td>True</td>\n",
              "    </tr>\n",
              "    <tr>\n",
              "      <td>4</td>\n",
              "      <td>False</td>\n",
              "      <td>False</td>\n",
              "      <td>False</td>\n",
              "    </tr>\n",
              "  </tbody>\n",
              "</table>\n",
              "</div>"
            ],
            "text/plain": [
              "      S1     S2     S3\n",
              "0  False  False  False\n",
              "1   True  False  False\n",
              "2  False   True  False\n",
              "3  False  False   True\n",
              "4  False  False  False"
            ]
          },
          "metadata": {
            "tags": []
          },
          "execution_count": 44
        }
      ]
    },
    {
      "cell_type": "code",
      "metadata": {
        "id": "Fp1j6vCDMnrV",
        "colab_type": "code",
        "colab": {},
        "outputId": "736b17e6-92aa-4d1e-cf70-ea3c7f0e8096"
      },
      "source": [
        "df.isnull().sum()"
      ],
      "execution_count": null,
      "outputs": [
        {
          "output_type": "execute_result",
          "data": {
            "text/plain": [
              "S1    1\n",
              "S2    1\n",
              "S3    1\n",
              "dtype: int64"
            ]
          },
          "metadata": {
            "tags": []
          },
          "execution_count": 45
        }
      ]
    },
    {
      "cell_type": "code",
      "metadata": {
        "id": "3_ROD9vxMnrX",
        "colab_type": "code",
        "colab": {},
        "outputId": "1f5034a4-7e6d-4a6d-b222-49aa8a229d41"
      },
      "source": [
        "df[df.isna().any(1)]"
      ],
      "execution_count": null,
      "outputs": [
        {
          "output_type": "execute_result",
          "data": {
            "text/html": [
              "<div>\n",
              "<style scoped>\n",
              "    .dataframe tbody tr th:only-of-type {\n",
              "        vertical-align: middle;\n",
              "    }\n",
              "\n",
              "    .dataframe tbody tr th {\n",
              "        vertical-align: top;\n",
              "    }\n",
              "\n",
              "    .dataframe thead th {\n",
              "        text-align: right;\n",
              "    }\n",
              "</style>\n",
              "<table border=\"1\" class=\"dataframe\">\n",
              "  <thead>\n",
              "    <tr style=\"text-align: right;\">\n",
              "      <th></th>\n",
              "      <th>S1</th>\n",
              "      <th>S2</th>\n",
              "      <th>S3</th>\n",
              "    </tr>\n",
              "  </thead>\n",
              "  <tbody>\n",
              "    <tr>\n",
              "      <td>1</td>\n",
              "      <td>NaN</td>\n",
              "      <td>2.0</td>\n",
              "      <td>2.0</td>\n",
              "    </tr>\n",
              "    <tr>\n",
              "      <td>2</td>\n",
              "      <td>3.0</td>\n",
              "      <td>NaN</td>\n",
              "      <td>3.0</td>\n",
              "    </tr>\n",
              "    <tr>\n",
              "      <td>3</td>\n",
              "      <td>4.0</td>\n",
              "      <td>4.0</td>\n",
              "      <td>NaN</td>\n",
              "    </tr>\n",
              "  </tbody>\n",
              "</table>\n",
              "</div>"
            ],
            "text/plain": [
              "    S1   S2   S3\n",
              "1  NaN  2.0  2.0\n",
              "2  3.0  NaN  3.0\n",
              "3  4.0  4.0  NaN"
            ]
          },
          "metadata": {
            "tags": []
          },
          "execution_count": 46
        }
      ]
    },
    {
      "cell_type": "code",
      "metadata": {
        "id": "JcMJMGkSMnrb",
        "colab_type": "code",
        "colab": {},
        "outputId": "0f25d806-aa4b-406e-c6d9-58e8550c0e28"
      },
      "source": [
        "df[df.isin([np.nan]).any(1)]"
      ],
      "execution_count": null,
      "outputs": [
        {
          "output_type": "execute_result",
          "data": {
            "text/html": [
              "<div>\n",
              "<style scoped>\n",
              "    .dataframe tbody tr th:only-of-type {\n",
              "        vertical-align: middle;\n",
              "    }\n",
              "\n",
              "    .dataframe tbody tr th {\n",
              "        vertical-align: top;\n",
              "    }\n",
              "\n",
              "    .dataframe thead th {\n",
              "        text-align: right;\n",
              "    }\n",
              "</style>\n",
              "<table border=\"1\" class=\"dataframe\">\n",
              "  <thead>\n",
              "    <tr style=\"text-align: right;\">\n",
              "      <th></th>\n",
              "      <th>S1</th>\n",
              "      <th>S2</th>\n",
              "      <th>S3</th>\n",
              "    </tr>\n",
              "  </thead>\n",
              "  <tbody>\n",
              "    <tr>\n",
              "      <td>1</td>\n",
              "      <td>NaN</td>\n",
              "      <td>2.0</td>\n",
              "      <td>2.0</td>\n",
              "    </tr>\n",
              "    <tr>\n",
              "      <td>2</td>\n",
              "      <td>3.0</td>\n",
              "      <td>NaN</td>\n",
              "      <td>3.0</td>\n",
              "    </tr>\n",
              "    <tr>\n",
              "      <td>3</td>\n",
              "      <td>4.0</td>\n",
              "      <td>4.0</td>\n",
              "      <td>NaN</td>\n",
              "    </tr>\n",
              "  </tbody>\n",
              "</table>\n",
              "</div>"
            ],
            "text/plain": [
              "    S1   S2   S3\n",
              "1  NaN  2.0  2.0\n",
              "2  3.0  NaN  3.0\n",
              "3  4.0  4.0  NaN"
            ]
          },
          "metadata": {
            "tags": []
          },
          "execution_count": 47
        }
      ]
    },
    {
      "cell_type": "code",
      "metadata": {
        "id": "4CB51dRqMnrd",
        "colab_type": "code",
        "colab": {},
        "outputId": "24b80816-487c-449b-865c-54d6b394fa9a"
      },
      "source": [
        "df.fillna(0)"
      ],
      "execution_count": null,
      "outputs": [
        {
          "output_type": "execute_result",
          "data": {
            "text/html": [
              "<div>\n",
              "<style scoped>\n",
              "    .dataframe tbody tr th:only-of-type {\n",
              "        vertical-align: middle;\n",
              "    }\n",
              "\n",
              "    .dataframe tbody tr th {\n",
              "        vertical-align: top;\n",
              "    }\n",
              "\n",
              "    .dataframe thead th {\n",
              "        text-align: right;\n",
              "    }\n",
              "</style>\n",
              "<table border=\"1\" class=\"dataframe\">\n",
              "  <thead>\n",
              "    <tr style=\"text-align: right;\">\n",
              "      <th></th>\n",
              "      <th>S1</th>\n",
              "      <th>S2</th>\n",
              "      <th>S3</th>\n",
              "    </tr>\n",
              "  </thead>\n",
              "  <tbody>\n",
              "    <tr>\n",
              "      <td>0</td>\n",
              "      <td>1.0</td>\n",
              "      <td>1.0</td>\n",
              "      <td>1.0</td>\n",
              "    </tr>\n",
              "    <tr>\n",
              "      <td>1</td>\n",
              "      <td>0.0</td>\n",
              "      <td>2.0</td>\n",
              "      <td>2.0</td>\n",
              "    </tr>\n",
              "    <tr>\n",
              "      <td>2</td>\n",
              "      <td>3.0</td>\n",
              "      <td>0.0</td>\n",
              "      <td>3.0</td>\n",
              "    </tr>\n",
              "    <tr>\n",
              "      <td>3</td>\n",
              "      <td>4.0</td>\n",
              "      <td>4.0</td>\n",
              "      <td>0.0</td>\n",
              "    </tr>\n",
              "    <tr>\n",
              "      <td>4</td>\n",
              "      <td>5.0</td>\n",
              "      <td>5.0</td>\n",
              "      <td>5.0</td>\n",
              "    </tr>\n",
              "  </tbody>\n",
              "</table>\n",
              "</div>"
            ],
            "text/plain": [
              "    S1   S2   S3\n",
              "0  1.0  1.0  1.0\n",
              "1  0.0  2.0  2.0\n",
              "2  3.0  0.0  3.0\n",
              "3  4.0  4.0  0.0\n",
              "4  5.0  5.0  5.0"
            ]
          },
          "metadata": {
            "tags": []
          },
          "execution_count": 48
        }
      ]
    },
    {
      "cell_type": "code",
      "metadata": {
        "id": "VGtJaDPmMnrg",
        "colab_type": "code",
        "colab": {},
        "outputId": "b830b7a2-01fa-4eb8-cfb1-4c4f8d39a4dd"
      },
      "source": [
        "df.fillna(method='pad')"
      ],
      "execution_count": null,
      "outputs": [
        {
          "output_type": "execute_result",
          "data": {
            "text/html": [
              "<div>\n",
              "<style scoped>\n",
              "    .dataframe tbody tr th:only-of-type {\n",
              "        vertical-align: middle;\n",
              "    }\n",
              "\n",
              "    .dataframe tbody tr th {\n",
              "        vertical-align: top;\n",
              "    }\n",
              "\n",
              "    .dataframe thead th {\n",
              "        text-align: right;\n",
              "    }\n",
              "</style>\n",
              "<table border=\"1\" class=\"dataframe\">\n",
              "  <thead>\n",
              "    <tr style=\"text-align: right;\">\n",
              "      <th></th>\n",
              "      <th>S1</th>\n",
              "      <th>S2</th>\n",
              "      <th>S3</th>\n",
              "    </tr>\n",
              "  </thead>\n",
              "  <tbody>\n",
              "    <tr>\n",
              "      <td>0</td>\n",
              "      <td>1.0</td>\n",
              "      <td>1.0</td>\n",
              "      <td>1.0</td>\n",
              "    </tr>\n",
              "    <tr>\n",
              "      <td>1</td>\n",
              "      <td>1.0</td>\n",
              "      <td>2.0</td>\n",
              "      <td>2.0</td>\n",
              "    </tr>\n",
              "    <tr>\n",
              "      <td>2</td>\n",
              "      <td>3.0</td>\n",
              "      <td>2.0</td>\n",
              "      <td>3.0</td>\n",
              "    </tr>\n",
              "    <tr>\n",
              "      <td>3</td>\n",
              "      <td>4.0</td>\n",
              "      <td>4.0</td>\n",
              "      <td>3.0</td>\n",
              "    </tr>\n",
              "    <tr>\n",
              "      <td>4</td>\n",
              "      <td>5.0</td>\n",
              "      <td>5.0</td>\n",
              "      <td>5.0</td>\n",
              "    </tr>\n",
              "  </tbody>\n",
              "</table>\n",
              "</div>"
            ],
            "text/plain": [
              "    S1   S2   S3\n",
              "0  1.0  1.0  1.0\n",
              "1  1.0  2.0  2.0\n",
              "2  3.0  2.0  3.0\n",
              "3  4.0  4.0  3.0\n",
              "4  5.0  5.0  5.0"
            ]
          },
          "metadata": {
            "tags": []
          },
          "execution_count": 49
        }
      ]
    },
    {
      "cell_type": "code",
      "metadata": {
        "id": "5jazPEZ-Mnrj",
        "colab_type": "code",
        "colab": {},
        "outputId": "09307e2f-6da5-4e45-bb49-3a67f05330d6"
      },
      "source": [
        "df.fillna(method='ffill')"
      ],
      "execution_count": null,
      "outputs": [
        {
          "output_type": "execute_result",
          "data": {
            "text/html": [
              "<div>\n",
              "<style scoped>\n",
              "    .dataframe tbody tr th:only-of-type {\n",
              "        vertical-align: middle;\n",
              "    }\n",
              "\n",
              "    .dataframe tbody tr th {\n",
              "        vertical-align: top;\n",
              "    }\n",
              "\n",
              "    .dataframe thead th {\n",
              "        text-align: right;\n",
              "    }\n",
              "</style>\n",
              "<table border=\"1\" class=\"dataframe\">\n",
              "  <thead>\n",
              "    <tr style=\"text-align: right;\">\n",
              "      <th></th>\n",
              "      <th>S1</th>\n",
              "      <th>S2</th>\n",
              "      <th>S3</th>\n",
              "    </tr>\n",
              "  </thead>\n",
              "  <tbody>\n",
              "    <tr>\n",
              "      <td>0</td>\n",
              "      <td>1.0</td>\n",
              "      <td>1.0</td>\n",
              "      <td>1.0</td>\n",
              "    </tr>\n",
              "    <tr>\n",
              "      <td>1</td>\n",
              "      <td>1.0</td>\n",
              "      <td>2.0</td>\n",
              "      <td>2.0</td>\n",
              "    </tr>\n",
              "    <tr>\n",
              "      <td>2</td>\n",
              "      <td>3.0</td>\n",
              "      <td>2.0</td>\n",
              "      <td>3.0</td>\n",
              "    </tr>\n",
              "    <tr>\n",
              "      <td>3</td>\n",
              "      <td>4.0</td>\n",
              "      <td>4.0</td>\n",
              "      <td>3.0</td>\n",
              "    </tr>\n",
              "    <tr>\n",
              "      <td>4</td>\n",
              "      <td>5.0</td>\n",
              "      <td>5.0</td>\n",
              "      <td>5.0</td>\n",
              "    </tr>\n",
              "  </tbody>\n",
              "</table>\n",
              "</div>"
            ],
            "text/plain": [
              "    S1   S2   S3\n",
              "0  1.0  1.0  1.0\n",
              "1  1.0  2.0  2.0\n",
              "2  3.0  2.0  3.0\n",
              "3  4.0  4.0  3.0\n",
              "4  5.0  5.0  5.0"
            ]
          },
          "metadata": {
            "tags": []
          },
          "execution_count": 50
        }
      ]
    },
    {
      "cell_type": "code",
      "metadata": {
        "id": "M53t3eTXMnrl",
        "colab_type": "code",
        "colab": {},
        "outputId": "093e9544-0317-4fc0-d1cb-2907545dd355"
      },
      "source": [
        "df.fillna(method='bfill')"
      ],
      "execution_count": null,
      "outputs": [
        {
          "output_type": "execute_result",
          "data": {
            "text/html": [
              "<div>\n",
              "<style scoped>\n",
              "    .dataframe tbody tr th:only-of-type {\n",
              "        vertical-align: middle;\n",
              "    }\n",
              "\n",
              "    .dataframe tbody tr th {\n",
              "        vertical-align: top;\n",
              "    }\n",
              "\n",
              "    .dataframe thead th {\n",
              "        text-align: right;\n",
              "    }\n",
              "</style>\n",
              "<table border=\"1\" class=\"dataframe\">\n",
              "  <thead>\n",
              "    <tr style=\"text-align: right;\">\n",
              "      <th></th>\n",
              "      <th>S1</th>\n",
              "      <th>S2</th>\n",
              "      <th>S3</th>\n",
              "    </tr>\n",
              "  </thead>\n",
              "  <tbody>\n",
              "    <tr>\n",
              "      <td>0</td>\n",
              "      <td>1.0</td>\n",
              "      <td>1.0</td>\n",
              "      <td>1.0</td>\n",
              "    </tr>\n",
              "    <tr>\n",
              "      <td>1</td>\n",
              "      <td>3.0</td>\n",
              "      <td>2.0</td>\n",
              "      <td>2.0</td>\n",
              "    </tr>\n",
              "    <tr>\n",
              "      <td>2</td>\n",
              "      <td>3.0</td>\n",
              "      <td>4.0</td>\n",
              "      <td>3.0</td>\n",
              "    </tr>\n",
              "    <tr>\n",
              "      <td>3</td>\n",
              "      <td>4.0</td>\n",
              "      <td>4.0</td>\n",
              "      <td>5.0</td>\n",
              "    </tr>\n",
              "    <tr>\n",
              "      <td>4</td>\n",
              "      <td>5.0</td>\n",
              "      <td>5.0</td>\n",
              "      <td>5.0</td>\n",
              "    </tr>\n",
              "  </tbody>\n",
              "</table>\n",
              "</div>"
            ],
            "text/plain": [
              "    S1   S2   S3\n",
              "0  1.0  1.0  1.0\n",
              "1  3.0  2.0  2.0\n",
              "2  3.0  4.0  3.0\n",
              "3  4.0  4.0  5.0\n",
              "4  5.0  5.0  5.0"
            ]
          },
          "metadata": {
            "tags": []
          },
          "execution_count": 51
        }
      ]
    },
    {
      "cell_type": "code",
      "metadata": {
        "id": "18nnDEHrMnrq",
        "colab_type": "code",
        "colab": {},
        "outputId": "f90284c9-1857-41b8-e1ac-4e43e3fc8bab"
      },
      "source": [
        "df.dropna(axis=0)"
      ],
      "execution_count": null,
      "outputs": [
        {
          "output_type": "execute_result",
          "data": {
            "text/html": [
              "<div>\n",
              "<style scoped>\n",
              "    .dataframe tbody tr th:only-of-type {\n",
              "        vertical-align: middle;\n",
              "    }\n",
              "\n",
              "    .dataframe tbody tr th {\n",
              "        vertical-align: top;\n",
              "    }\n",
              "\n",
              "    .dataframe thead th {\n",
              "        text-align: right;\n",
              "    }\n",
              "</style>\n",
              "<table border=\"1\" class=\"dataframe\">\n",
              "  <thead>\n",
              "    <tr style=\"text-align: right;\">\n",
              "      <th></th>\n",
              "      <th>S1</th>\n",
              "      <th>S2</th>\n",
              "      <th>S3</th>\n",
              "    </tr>\n",
              "  </thead>\n",
              "  <tbody>\n",
              "    <tr>\n",
              "      <td>0</td>\n",
              "      <td>1.0</td>\n",
              "      <td>1.0</td>\n",
              "      <td>1.0</td>\n",
              "    </tr>\n",
              "    <tr>\n",
              "      <td>4</td>\n",
              "      <td>5.0</td>\n",
              "      <td>5.0</td>\n",
              "      <td>5.0</td>\n",
              "    </tr>\n",
              "  </tbody>\n",
              "</table>\n",
              "</div>"
            ],
            "text/plain": [
              "    S1   S2   S3\n",
              "0  1.0  1.0  1.0\n",
              "4  5.0  5.0  5.0"
            ]
          },
          "metadata": {
            "tags": []
          },
          "execution_count": 52
        }
      ]
    },
    {
      "cell_type": "code",
      "metadata": {
        "id": "Q0XTewjHMnrs",
        "colab_type": "code",
        "colab": {},
        "outputId": "96d67910-35e6-4404-8c2a-56b4e4536b8e"
      },
      "source": [
        "df.dropna(axis='rows')"
      ],
      "execution_count": null,
      "outputs": [
        {
          "output_type": "execute_result",
          "data": {
            "text/html": [
              "<div>\n",
              "<style scoped>\n",
              "    .dataframe tbody tr th:only-of-type {\n",
              "        vertical-align: middle;\n",
              "    }\n",
              "\n",
              "    .dataframe tbody tr th {\n",
              "        vertical-align: top;\n",
              "    }\n",
              "\n",
              "    .dataframe thead th {\n",
              "        text-align: right;\n",
              "    }\n",
              "</style>\n",
              "<table border=\"1\" class=\"dataframe\">\n",
              "  <thead>\n",
              "    <tr style=\"text-align: right;\">\n",
              "      <th></th>\n",
              "      <th>S1</th>\n",
              "      <th>S2</th>\n",
              "      <th>S3</th>\n",
              "    </tr>\n",
              "  </thead>\n",
              "  <tbody>\n",
              "    <tr>\n",
              "      <td>0</td>\n",
              "      <td>1.0</td>\n",
              "      <td>1.0</td>\n",
              "      <td>1.0</td>\n",
              "    </tr>\n",
              "    <tr>\n",
              "      <td>4</td>\n",
              "      <td>5.0</td>\n",
              "      <td>5.0</td>\n",
              "      <td>5.0</td>\n",
              "    </tr>\n",
              "  </tbody>\n",
              "</table>\n",
              "</div>"
            ],
            "text/plain": [
              "    S1   S2   S3\n",
              "0  1.0  1.0  1.0\n",
              "4  5.0  5.0  5.0"
            ]
          },
          "metadata": {
            "tags": []
          },
          "execution_count": 53
        }
      ]
    },
    {
      "cell_type": "code",
      "metadata": {
        "id": "9Ybd3pT7Mnru",
        "colab_type": "code",
        "colab": {},
        "outputId": "d998d990-c58d-49b2-a156-70c67374e041"
      },
      "source": [
        "df.dropna(axis=1)"
      ],
      "execution_count": null,
      "outputs": [
        {
          "output_type": "execute_result",
          "data": {
            "text/html": [
              "<div>\n",
              "<style scoped>\n",
              "    .dataframe tbody tr th:only-of-type {\n",
              "        vertical-align: middle;\n",
              "    }\n",
              "\n",
              "    .dataframe tbody tr th {\n",
              "        vertical-align: top;\n",
              "    }\n",
              "\n",
              "    .dataframe thead th {\n",
              "        text-align: right;\n",
              "    }\n",
              "</style>\n",
              "<table border=\"1\" class=\"dataframe\">\n",
              "  <thead>\n",
              "    <tr style=\"text-align: right;\">\n",
              "      <th></th>\n",
              "    </tr>\n",
              "  </thead>\n",
              "  <tbody>\n",
              "    <tr>\n",
              "      <td>0</td>\n",
              "    </tr>\n",
              "    <tr>\n",
              "      <td>1</td>\n",
              "    </tr>\n",
              "    <tr>\n",
              "      <td>2</td>\n",
              "    </tr>\n",
              "    <tr>\n",
              "      <td>3</td>\n",
              "    </tr>\n",
              "    <tr>\n",
              "      <td>4</td>\n",
              "    </tr>\n",
              "  </tbody>\n",
              "</table>\n",
              "</div>"
            ],
            "text/plain": [
              "Empty DataFrame\n",
              "Columns: []\n",
              "Index: [0, 1, 2, 3, 4]"
            ]
          },
          "metadata": {
            "tags": []
          },
          "execution_count": 54
        }
      ]
    },
    {
      "cell_type": "code",
      "metadata": {
        "id": "v3Adt8WGMnrz",
        "colab_type": "code",
        "colab": {},
        "outputId": "142ce8bd-e22f-4a40-bf54-be2162c7ff29"
      },
      "source": [
        "df.dropna(axis='columns')"
      ],
      "execution_count": null,
      "outputs": [
        {
          "output_type": "execute_result",
          "data": {
            "text/html": [
              "<div>\n",
              "<style scoped>\n",
              "    .dataframe tbody tr th:only-of-type {\n",
              "        vertical-align: middle;\n",
              "    }\n",
              "\n",
              "    .dataframe tbody tr th {\n",
              "        vertical-align: top;\n",
              "    }\n",
              "\n",
              "    .dataframe thead th {\n",
              "        text-align: right;\n",
              "    }\n",
              "</style>\n",
              "<table border=\"1\" class=\"dataframe\">\n",
              "  <thead>\n",
              "    <tr style=\"text-align: right;\">\n",
              "      <th></th>\n",
              "    </tr>\n",
              "  </thead>\n",
              "  <tbody>\n",
              "    <tr>\n",
              "      <td>0</td>\n",
              "    </tr>\n",
              "    <tr>\n",
              "      <td>1</td>\n",
              "    </tr>\n",
              "    <tr>\n",
              "      <td>2</td>\n",
              "    </tr>\n",
              "    <tr>\n",
              "      <td>3</td>\n",
              "    </tr>\n",
              "    <tr>\n",
              "      <td>4</td>\n",
              "    </tr>\n",
              "  </tbody>\n",
              "</table>\n",
              "</div>"
            ],
            "text/plain": [
              "Empty DataFrame\n",
              "Columns: []\n",
              "Index: [0, 1, 2, 3, 4]"
            ]
          },
          "metadata": {
            "tags": []
          },
          "execution_count": 55
        }
      ]
    },
    {
      "cell_type": "markdown",
      "metadata": {
        "id": "QzbeCqVsMnr1",
        "colab_type": "text"
      },
      "source": [
        "* 실제 종목 데이터로 확인해보자."
      ]
    },
    {
      "cell_type": "code",
      "metadata": {
        "id": "tx2mjwtMMnr2",
        "colab_type": "code",
        "colab": {},
        "outputId": "13a42abe-9a95-4820-f093-fa86ab20506e"
      },
      "source": [
        "import pandas as pd\n",
        "aapl_df = pd.read_csv('./data/us_etf_data\\AAPL.csv',index_col='Date', parse_dates=['Date'])\n",
        "# aapl_df.head()\n",
        "aapl_df.isna().sum()"
      ],
      "execution_count": null,
      "outputs": [
        {
          "output_type": "execute_result",
          "data": {
            "text/plain": [
              "Open         1\n",
              "High         1\n",
              "Low          1\n",
              "Close        1\n",
              "Adj Close    1\n",
              "Volume       1\n",
              "dtype: int64"
            ]
          },
          "metadata": {
            "tags": []
          },
          "execution_count": 1
        }
      ]
    },
    {
      "cell_type": "code",
      "metadata": {
        "id": "BNouXBSCMnr4",
        "colab_type": "code",
        "colab": {},
        "outputId": "904c2447-f890-41e0-a9cd-3b0c834361bc"
      },
      "source": [
        "import numpy as np\n",
        "aapl_df[aapl_df.isin([np.nan, np.inf, -np.inf]).any(1)]"
      ],
      "execution_count": null,
      "outputs": [
        {
          "output_type": "execute_result",
          "data": {
            "text/html": [
              "<div>\n",
              "<style scoped>\n",
              "    .dataframe tbody tr th:only-of-type {\n",
              "        vertical-align: middle;\n",
              "    }\n",
              "\n",
              "    .dataframe tbody tr th {\n",
              "        vertical-align: top;\n",
              "    }\n",
              "\n",
              "    .dataframe thead th {\n",
              "        text-align: right;\n",
              "    }\n",
              "</style>\n",
              "<table border=\"1\" class=\"dataframe\">\n",
              "  <thead>\n",
              "    <tr style=\"text-align: right;\">\n",
              "      <th></th>\n",
              "      <th>Open</th>\n",
              "      <th>High</th>\n",
              "      <th>Low</th>\n",
              "      <th>Close</th>\n",
              "      <th>Adj Close</th>\n",
              "      <th>Volume</th>\n",
              "    </tr>\n",
              "    <tr>\n",
              "      <th>Date</th>\n",
              "      <th></th>\n",
              "      <th></th>\n",
              "      <th></th>\n",
              "      <th></th>\n",
              "      <th></th>\n",
              "      <th></th>\n",
              "    </tr>\n",
              "  </thead>\n",
              "  <tbody>\n",
              "    <tr>\n",
              "      <th>1981-08-10</th>\n",
              "      <td>NaN</td>\n",
              "      <td>NaN</td>\n",
              "      <td>NaN</td>\n",
              "      <td>NaN</td>\n",
              "      <td>NaN</td>\n",
              "      <td>NaN</td>\n",
              "    </tr>\n",
              "  </tbody>\n",
              "</table>\n",
              "</div>"
            ],
            "text/plain": [
              "            Open  High  Low  Close  Adj Close  Volume\n",
              "Date                                                 \n",
              "1981-08-10   NaN   NaN  NaN    NaN        NaN     NaN"
            ]
          },
          "metadata": {
            "tags": []
          },
          "execution_count": 3
        }
      ]
    },
    {
      "cell_type": "markdown",
      "metadata": {
        "id": "BFAtXrtgMnr7",
        "colab_type": "text"
      },
      "source": [
        "## 2.2.3가장 자주 쓰이는 데이터 선택방법(슬라이싱, 인덱싱, 서브셋 데이터 추출)"
      ]
    },
    {
      "cell_type": "code",
      "metadata": {
        "id": "Xg6vm3y7Mnr7",
        "colab_type": "code",
        "colab": {},
        "outputId": "b9c0180f-ec81-4a65-8372-3ff839d75113"
      },
      "source": [
        "a = [0,1,2,3,4,5,6,7,8,9,10]\n",
        "a[0:5]"
      ],
      "execution_count": null,
      "outputs": [
        {
          "output_type": "execute_result",
          "data": {
            "text/plain": [
              "[0, 1, 2, 3, 4]"
            ]
          },
          "metadata": {
            "tags": []
          },
          "execution_count": 58
        }
      ]
    },
    {
      "cell_type": "code",
      "metadata": {
        "id": "s9QxoZ3YMnr9",
        "colab_type": "code",
        "colab": {},
        "outputId": "d6877941-4419-48d4-d83f-6d834c46a592"
      },
      "source": [
        "import pandas as pd\n",
        "df = pd.read_csv('./data/stock/AAPL.csv',index_col='Date', parse_dates=['Date'])\n",
        "df.head()"
      ],
      "execution_count": null,
      "outputs": [
        {
          "output_type": "execute_result",
          "data": {
            "text/html": [
              "<div>\n",
              "<style scoped>\n",
              "    .dataframe tbody tr th:only-of-type {\n",
              "        vertical-align: middle;\n",
              "    }\n",
              "\n",
              "    .dataframe tbody tr th {\n",
              "        vertical-align: top;\n",
              "    }\n",
              "\n",
              "    .dataframe thead th {\n",
              "        text-align: right;\n",
              "    }\n",
              "</style>\n",
              "<table border=\"1\" class=\"dataframe\">\n",
              "  <thead>\n",
              "    <tr style=\"text-align: right;\">\n",
              "      <th></th>\n",
              "      <th>Open</th>\n",
              "      <th>High</th>\n",
              "      <th>Low</th>\n",
              "      <th>Close</th>\n",
              "      <th>Adj Close</th>\n",
              "      <th>Volume</th>\n",
              "    </tr>\n",
              "    <tr>\n",
              "      <th>Date</th>\n",
              "      <th></th>\n",
              "      <th></th>\n",
              "      <th></th>\n",
              "      <th></th>\n",
              "      <th></th>\n",
              "      <th></th>\n",
              "    </tr>\n",
              "  </thead>\n",
              "  <tbody>\n",
              "    <tr>\n",
              "      <td>1980-12-12</td>\n",
              "      <td>0.513393</td>\n",
              "      <td>0.515625</td>\n",
              "      <td>0.513393</td>\n",
              "      <td>0.513393</td>\n",
              "      <td>0.410525</td>\n",
              "      <td>117258400.0</td>\n",
              "    </tr>\n",
              "    <tr>\n",
              "      <td>1980-12-15</td>\n",
              "      <td>0.488839</td>\n",
              "      <td>0.488839</td>\n",
              "      <td>0.486607</td>\n",
              "      <td>0.486607</td>\n",
              "      <td>0.389106</td>\n",
              "      <td>43971200.0</td>\n",
              "    </tr>\n",
              "    <tr>\n",
              "      <td>1980-12-16</td>\n",
              "      <td>0.453125</td>\n",
              "      <td>0.453125</td>\n",
              "      <td>0.450893</td>\n",
              "      <td>0.450893</td>\n",
              "      <td>0.360548</td>\n",
              "      <td>26432000.0</td>\n",
              "    </tr>\n",
              "    <tr>\n",
              "      <td>1980-12-17</td>\n",
              "      <td>0.462054</td>\n",
              "      <td>0.464286</td>\n",
              "      <td>0.462054</td>\n",
              "      <td>0.462054</td>\n",
              "      <td>0.369472</td>\n",
              "      <td>21610400.0</td>\n",
              "    </tr>\n",
              "    <tr>\n",
              "      <td>1980-12-18</td>\n",
              "      <td>0.475446</td>\n",
              "      <td>0.477679</td>\n",
              "      <td>0.475446</td>\n",
              "      <td>0.475446</td>\n",
              "      <td>0.380182</td>\n",
              "      <td>18362400.0</td>\n",
              "    </tr>\n",
              "  </tbody>\n",
              "</table>\n",
              "</div>"
            ],
            "text/plain": [
              "                Open      High       Low     Close  Adj Close       Volume\n",
              "Date                                                                      \n",
              "1980-12-12  0.513393  0.515625  0.513393  0.513393   0.410525  117258400.0\n",
              "1980-12-15  0.488839  0.488839  0.486607  0.486607   0.389106   43971200.0\n",
              "1980-12-16  0.453125  0.453125  0.450893  0.450893   0.360548   26432000.0\n",
              "1980-12-17  0.462054  0.464286  0.462054  0.462054   0.369472   21610400.0\n",
              "1980-12-18  0.475446  0.477679  0.475446  0.475446   0.380182   18362400.0"
            ]
          },
          "metadata": {
            "tags": []
          },
          "execution_count": 59
        }
      ]
    },
    {
      "cell_type": "code",
      "metadata": {
        "id": "n6jYeZeGMnsA",
        "colab_type": "code",
        "colab": {},
        "outputId": "37157704-ee19-4a54-f40c-e63ef8094e47"
      },
      "source": [
        "print(type(df.index))\n",
        "print(type(df.index[0]))"
      ],
      "execution_count": null,
      "outputs": [
        {
          "output_type": "stream",
          "text": [
            "<class 'pandas.core.indexes.datetimes.DatetimeIndex'>\n",
            "<class 'pandas._libs.tslibs.timestamps.Timestamp'>\n"
          ],
          "name": "stdout"
        }
      ]
    },
    {
      "cell_type": "markdown",
      "metadata": {
        "id": "A_lUxlu3MnsE",
        "colab_type": "text"
      },
      "source": [
        "열단위 출력"
      ]
    },
    {
      "cell_type": "code",
      "metadata": {
        "id": "-rG_WIKdMnsF",
        "colab_type": "code",
        "colab": {},
        "outputId": "4e868351-5897-4942-82fe-15dd0314a6cb"
      },
      "source": [
        "df['Open'].head()"
      ],
      "execution_count": null,
      "outputs": [
        {
          "output_type": "execute_result",
          "data": {
            "text/plain": [
              "Date\n",
              "1980-12-12    0.513393\n",
              "1980-12-15    0.488839\n",
              "1980-12-16    0.453125\n",
              "1980-12-17    0.462054\n",
              "1980-12-18    0.475446\n",
              "Name: Open, dtype: float64"
            ]
          },
          "metadata": {
            "tags": []
          },
          "execution_count": 61
        }
      ]
    },
    {
      "cell_type": "code",
      "metadata": {
        "id": "R7w-tBlFMnsI",
        "colab_type": "code",
        "colab": {},
        "outputId": "de352c5a-2bf8-424c-9a3d-3569875cfedb"
      },
      "source": [
        "df['Open','High']"
      ],
      "execution_count": null,
      "outputs": [
        {
          "output_type": "error",
          "ename": "KeyError",
          "evalue": "('Open', 'High')",
          "traceback": [
            "\u001b[1;31m---------------------------------------------------------------------------\u001b[0m",
            "\u001b[1;31mKeyError\u001b[0m                                  Traceback (most recent call last)",
            "\u001b[1;32m~\\Anaconda3\\envs\\py36\\lib\\site-packages\\pandas\\core\\indexes\\base.py\u001b[0m in \u001b[0;36mget_loc\u001b[1;34m(self, key, method, tolerance)\u001b[0m\n\u001b[0;32m   2896\u001b[0m             \u001b[1;32mtry\u001b[0m\u001b[1;33m:\u001b[0m\u001b[1;33m\u001b[0m\u001b[1;33m\u001b[0m\u001b[0m\n\u001b[1;32m-> 2897\u001b[1;33m                 \u001b[1;32mreturn\u001b[0m \u001b[0mself\u001b[0m\u001b[1;33m.\u001b[0m\u001b[0m_engine\u001b[0m\u001b[1;33m.\u001b[0m\u001b[0mget_loc\u001b[0m\u001b[1;33m(\u001b[0m\u001b[0mkey\u001b[0m\u001b[1;33m)\u001b[0m\u001b[1;33m\u001b[0m\u001b[1;33m\u001b[0m\u001b[0m\n\u001b[0m\u001b[0;32m   2898\u001b[0m             \u001b[1;32mexcept\u001b[0m \u001b[0mKeyError\u001b[0m\u001b[1;33m:\u001b[0m\u001b[1;33m\u001b[0m\u001b[1;33m\u001b[0m\u001b[0m\n",
            "\u001b[1;32mpandas/_libs/index.pyx\u001b[0m in \u001b[0;36mpandas._libs.index.IndexEngine.get_loc\u001b[1;34m()\u001b[0m\n",
            "\u001b[1;32mpandas/_libs/index.pyx\u001b[0m in \u001b[0;36mpandas._libs.index.IndexEngine.get_loc\u001b[1;34m()\u001b[0m\n",
            "\u001b[1;32mpandas/_libs/hashtable_class_helper.pxi\u001b[0m in \u001b[0;36mpandas._libs.hashtable.PyObjectHashTable.get_item\u001b[1;34m()\u001b[0m\n",
            "\u001b[1;32mpandas/_libs/hashtable_class_helper.pxi\u001b[0m in \u001b[0;36mpandas._libs.hashtable.PyObjectHashTable.get_item\u001b[1;34m()\u001b[0m\n",
            "\u001b[1;31mKeyError\u001b[0m: ('Open', 'High')",
            "\nDuring handling of the above exception, another exception occurred:\n",
            "\u001b[1;31mKeyError\u001b[0m                                  Traceback (most recent call last)",
            "\u001b[1;32m<ipython-input-62-d6c6693d2906>\u001b[0m in \u001b[0;36m<module>\u001b[1;34m\u001b[0m\n\u001b[1;32m----> 1\u001b[1;33m \u001b[0mdf\u001b[0m\u001b[1;33m[\u001b[0m\u001b[1;34m'Open'\u001b[0m\u001b[1;33m,\u001b[0m\u001b[1;34m'High'\u001b[0m\u001b[1;33m]\u001b[0m\u001b[1;33m\u001b[0m\u001b[1;33m\u001b[0m\u001b[0m\n\u001b[0m",
            "\u001b[1;32m~\\Anaconda3\\envs\\py36\\lib\\site-packages\\pandas\\core\\frame.py\u001b[0m in \u001b[0;36m__getitem__\u001b[1;34m(self, key)\u001b[0m\n\u001b[0;32m   2978\u001b[0m             \u001b[1;32mif\u001b[0m \u001b[0mself\u001b[0m\u001b[1;33m.\u001b[0m\u001b[0mcolumns\u001b[0m\u001b[1;33m.\u001b[0m\u001b[0mnlevels\u001b[0m \u001b[1;33m>\u001b[0m \u001b[1;36m1\u001b[0m\u001b[1;33m:\u001b[0m\u001b[1;33m\u001b[0m\u001b[1;33m\u001b[0m\u001b[0m\n\u001b[0;32m   2979\u001b[0m                 \u001b[1;32mreturn\u001b[0m \u001b[0mself\u001b[0m\u001b[1;33m.\u001b[0m\u001b[0m_getitem_multilevel\u001b[0m\u001b[1;33m(\u001b[0m\u001b[0mkey\u001b[0m\u001b[1;33m)\u001b[0m\u001b[1;33m\u001b[0m\u001b[1;33m\u001b[0m\u001b[0m\n\u001b[1;32m-> 2980\u001b[1;33m             \u001b[0mindexer\u001b[0m \u001b[1;33m=\u001b[0m \u001b[0mself\u001b[0m\u001b[1;33m.\u001b[0m\u001b[0mcolumns\u001b[0m\u001b[1;33m.\u001b[0m\u001b[0mget_loc\u001b[0m\u001b[1;33m(\u001b[0m\u001b[0mkey\u001b[0m\u001b[1;33m)\u001b[0m\u001b[1;33m\u001b[0m\u001b[1;33m\u001b[0m\u001b[0m\n\u001b[0m\u001b[0;32m   2981\u001b[0m             \u001b[1;32mif\u001b[0m \u001b[0mis_integer\u001b[0m\u001b[1;33m(\u001b[0m\u001b[0mindexer\u001b[0m\u001b[1;33m)\u001b[0m\u001b[1;33m:\u001b[0m\u001b[1;33m\u001b[0m\u001b[1;33m\u001b[0m\u001b[0m\n\u001b[0;32m   2982\u001b[0m                 \u001b[0mindexer\u001b[0m \u001b[1;33m=\u001b[0m \u001b[1;33m[\u001b[0m\u001b[0mindexer\u001b[0m\u001b[1;33m]\u001b[0m\u001b[1;33m\u001b[0m\u001b[1;33m\u001b[0m\u001b[0m\n",
            "\u001b[1;32m~\\Anaconda3\\envs\\py36\\lib\\site-packages\\pandas\\core\\indexes\\base.py\u001b[0m in \u001b[0;36mget_loc\u001b[1;34m(self, key, method, tolerance)\u001b[0m\n\u001b[0;32m   2897\u001b[0m                 \u001b[1;32mreturn\u001b[0m \u001b[0mself\u001b[0m\u001b[1;33m.\u001b[0m\u001b[0m_engine\u001b[0m\u001b[1;33m.\u001b[0m\u001b[0mget_loc\u001b[0m\u001b[1;33m(\u001b[0m\u001b[0mkey\u001b[0m\u001b[1;33m)\u001b[0m\u001b[1;33m\u001b[0m\u001b[1;33m\u001b[0m\u001b[0m\n\u001b[0;32m   2898\u001b[0m             \u001b[1;32mexcept\u001b[0m \u001b[0mKeyError\u001b[0m\u001b[1;33m:\u001b[0m\u001b[1;33m\u001b[0m\u001b[1;33m\u001b[0m\u001b[0m\n\u001b[1;32m-> 2899\u001b[1;33m                 \u001b[1;32mreturn\u001b[0m \u001b[0mself\u001b[0m\u001b[1;33m.\u001b[0m\u001b[0m_engine\u001b[0m\u001b[1;33m.\u001b[0m\u001b[0mget_loc\u001b[0m\u001b[1;33m(\u001b[0m\u001b[0mself\u001b[0m\u001b[1;33m.\u001b[0m\u001b[0m_maybe_cast_indexer\u001b[0m\u001b[1;33m(\u001b[0m\u001b[0mkey\u001b[0m\u001b[1;33m)\u001b[0m\u001b[1;33m)\u001b[0m\u001b[1;33m\u001b[0m\u001b[1;33m\u001b[0m\u001b[0m\n\u001b[0m\u001b[0;32m   2900\u001b[0m         \u001b[0mindexer\u001b[0m \u001b[1;33m=\u001b[0m \u001b[0mself\u001b[0m\u001b[1;33m.\u001b[0m\u001b[0mget_indexer\u001b[0m\u001b[1;33m(\u001b[0m\u001b[1;33m[\u001b[0m\u001b[0mkey\u001b[0m\u001b[1;33m]\u001b[0m\u001b[1;33m,\u001b[0m \u001b[0mmethod\u001b[0m\u001b[1;33m=\u001b[0m\u001b[0mmethod\u001b[0m\u001b[1;33m,\u001b[0m \u001b[0mtolerance\u001b[0m\u001b[1;33m=\u001b[0m\u001b[0mtolerance\u001b[0m\u001b[1;33m)\u001b[0m\u001b[1;33m\u001b[0m\u001b[1;33m\u001b[0m\u001b[0m\n\u001b[0;32m   2901\u001b[0m         \u001b[1;32mif\u001b[0m \u001b[0mindexer\u001b[0m\u001b[1;33m.\u001b[0m\u001b[0mndim\u001b[0m \u001b[1;33m>\u001b[0m \u001b[1;36m1\u001b[0m \u001b[1;32mor\u001b[0m \u001b[0mindexer\u001b[0m\u001b[1;33m.\u001b[0m\u001b[0msize\u001b[0m \u001b[1;33m>\u001b[0m \u001b[1;36m1\u001b[0m\u001b[1;33m:\u001b[0m\u001b[1;33m\u001b[0m\u001b[1;33m\u001b[0m\u001b[0m\n",
            "\u001b[1;32mpandas/_libs/index.pyx\u001b[0m in \u001b[0;36mpandas._libs.index.IndexEngine.get_loc\u001b[1;34m()\u001b[0m\n",
            "\u001b[1;32mpandas/_libs/index.pyx\u001b[0m in \u001b[0;36mpandas._libs.index.IndexEngine.get_loc\u001b[1;34m()\u001b[0m\n",
            "\u001b[1;32mpandas/_libs/hashtable_class_helper.pxi\u001b[0m in \u001b[0;36mpandas._libs.hashtable.PyObjectHashTable.get_item\u001b[1;34m()\u001b[0m\n",
            "\u001b[1;32mpandas/_libs/hashtable_class_helper.pxi\u001b[0m in \u001b[0;36mpandas._libs.hashtable.PyObjectHashTable.get_item\u001b[1;34m()\u001b[0m\n",
            "\u001b[1;31mKeyError\u001b[0m: ('Open', 'High')"
          ]
        }
      ]
    },
    {
      "cell_type": "code",
      "metadata": {
        "id": "QqG2HubpMnsK",
        "colab_type": "code",
        "colab": {},
        "outputId": "9dc7c3ce-98bb-42cb-8ffe-b4de417b780e"
      },
      "source": [
        "df[['Open','High','Low','Close']].head()"
      ],
      "execution_count": null,
      "outputs": [
        {
          "output_type": "execute_result",
          "data": {
            "text/html": [
              "<div>\n",
              "<style scoped>\n",
              "    .dataframe tbody tr th:only-of-type {\n",
              "        vertical-align: middle;\n",
              "    }\n",
              "\n",
              "    .dataframe tbody tr th {\n",
              "        vertical-align: top;\n",
              "    }\n",
              "\n",
              "    .dataframe thead th {\n",
              "        text-align: right;\n",
              "    }\n",
              "</style>\n",
              "<table border=\"1\" class=\"dataframe\">\n",
              "  <thead>\n",
              "    <tr style=\"text-align: right;\">\n",
              "      <th></th>\n",
              "      <th>Open</th>\n",
              "      <th>High</th>\n",
              "      <th>Low</th>\n",
              "      <th>Close</th>\n",
              "    </tr>\n",
              "    <tr>\n",
              "      <th>Date</th>\n",
              "      <th></th>\n",
              "      <th></th>\n",
              "      <th></th>\n",
              "      <th></th>\n",
              "    </tr>\n",
              "  </thead>\n",
              "  <tbody>\n",
              "    <tr>\n",
              "      <td>1980-12-12</td>\n",
              "      <td>0.513393</td>\n",
              "      <td>0.515625</td>\n",
              "      <td>0.513393</td>\n",
              "      <td>0.513393</td>\n",
              "    </tr>\n",
              "    <tr>\n",
              "      <td>1980-12-15</td>\n",
              "      <td>0.488839</td>\n",
              "      <td>0.488839</td>\n",
              "      <td>0.486607</td>\n",
              "      <td>0.486607</td>\n",
              "    </tr>\n",
              "    <tr>\n",
              "      <td>1980-12-16</td>\n",
              "      <td>0.453125</td>\n",
              "      <td>0.453125</td>\n",
              "      <td>0.450893</td>\n",
              "      <td>0.450893</td>\n",
              "    </tr>\n",
              "    <tr>\n",
              "      <td>1980-12-17</td>\n",
              "      <td>0.462054</td>\n",
              "      <td>0.464286</td>\n",
              "      <td>0.462054</td>\n",
              "      <td>0.462054</td>\n",
              "    </tr>\n",
              "    <tr>\n",
              "      <td>1980-12-18</td>\n",
              "      <td>0.475446</td>\n",
              "      <td>0.477679</td>\n",
              "      <td>0.475446</td>\n",
              "      <td>0.475446</td>\n",
              "    </tr>\n",
              "  </tbody>\n",
              "</table>\n",
              "</div>"
            ],
            "text/plain": [
              "                Open      High       Low     Close\n",
              "Date                                              \n",
              "1980-12-12  0.513393  0.515625  0.513393  0.513393\n",
              "1980-12-15  0.488839  0.488839  0.486607  0.486607\n",
              "1980-12-16  0.453125  0.453125  0.450893  0.450893\n",
              "1980-12-17  0.462054  0.464286  0.462054  0.462054\n",
              "1980-12-18  0.475446  0.477679  0.475446  0.475446"
            ]
          },
          "metadata": {
            "tags": []
          },
          "execution_count": 63
        }
      ]
    },
    {
      "cell_type": "code",
      "metadata": {
        "id": "YsOiq2bUMnsM",
        "colab_type": "code",
        "colab": {},
        "outputId": "90c8ef97-5c74-4eba-8e33-8639e807528c"
      },
      "source": [
        "df[0:3]"
      ],
      "execution_count": null,
      "outputs": [
        {
          "output_type": "execute_result",
          "data": {
            "text/html": [
              "<div>\n",
              "<style scoped>\n",
              "    .dataframe tbody tr th:only-of-type {\n",
              "        vertical-align: middle;\n",
              "    }\n",
              "\n",
              "    .dataframe tbody tr th {\n",
              "        vertical-align: top;\n",
              "    }\n",
              "\n",
              "    .dataframe thead th {\n",
              "        text-align: right;\n",
              "    }\n",
              "</style>\n",
              "<table border=\"1\" class=\"dataframe\">\n",
              "  <thead>\n",
              "    <tr style=\"text-align: right;\">\n",
              "      <th></th>\n",
              "      <th>Open</th>\n",
              "      <th>High</th>\n",
              "      <th>Low</th>\n",
              "      <th>Close</th>\n",
              "      <th>Adj Close</th>\n",
              "      <th>Volume</th>\n",
              "    </tr>\n",
              "    <tr>\n",
              "      <th>Date</th>\n",
              "      <th></th>\n",
              "      <th></th>\n",
              "      <th></th>\n",
              "      <th></th>\n",
              "      <th></th>\n",
              "      <th></th>\n",
              "    </tr>\n",
              "  </thead>\n",
              "  <tbody>\n",
              "    <tr>\n",
              "      <td>1980-12-12</td>\n",
              "      <td>0.513393</td>\n",
              "      <td>0.515625</td>\n",
              "      <td>0.513393</td>\n",
              "      <td>0.513393</td>\n",
              "      <td>0.410525</td>\n",
              "      <td>117258400.0</td>\n",
              "    </tr>\n",
              "    <tr>\n",
              "      <td>1980-12-15</td>\n",
              "      <td>0.488839</td>\n",
              "      <td>0.488839</td>\n",
              "      <td>0.486607</td>\n",
              "      <td>0.486607</td>\n",
              "      <td>0.389106</td>\n",
              "      <td>43971200.0</td>\n",
              "    </tr>\n",
              "    <tr>\n",
              "      <td>1980-12-16</td>\n",
              "      <td>0.453125</td>\n",
              "      <td>0.453125</td>\n",
              "      <td>0.450893</td>\n",
              "      <td>0.450893</td>\n",
              "      <td>0.360548</td>\n",
              "      <td>26432000.0</td>\n",
              "    </tr>\n",
              "  </tbody>\n",
              "</table>\n",
              "</div>"
            ],
            "text/plain": [
              "                Open      High       Low     Close  Adj Close       Volume\n",
              "Date                                                                      \n",
              "1980-12-12  0.513393  0.515625  0.513393  0.513393   0.410525  117258400.0\n",
              "1980-12-15  0.488839  0.488839  0.486607  0.486607   0.389106   43971200.0\n",
              "1980-12-16  0.453125  0.453125  0.450893  0.450893   0.360548   26432000.0"
            ]
          },
          "metadata": {
            "tags": []
          },
          "execution_count": 64
        }
      ]
    },
    {
      "cell_type": "code",
      "metadata": {
        "id": "tEtWFH9aMnsP",
        "colab_type": "code",
        "colab": {},
        "outputId": "17585e26-7ab1-421f-fd19-043821fc9b7a"
      },
      "source": [
        "df['2018-10-10':'2018-10-20']"
      ],
      "execution_count": null,
      "outputs": [
        {
          "output_type": "execute_result",
          "data": {
            "text/html": [
              "<div>\n",
              "<style scoped>\n",
              "    .dataframe tbody tr th:only-of-type {\n",
              "        vertical-align: middle;\n",
              "    }\n",
              "\n",
              "    .dataframe tbody tr th {\n",
              "        vertical-align: top;\n",
              "    }\n",
              "\n",
              "    .dataframe thead th {\n",
              "        text-align: right;\n",
              "    }\n",
              "</style>\n",
              "<table border=\"1\" class=\"dataframe\">\n",
              "  <thead>\n",
              "    <tr style=\"text-align: right;\">\n",
              "      <th></th>\n",
              "      <th>Open</th>\n",
              "      <th>High</th>\n",
              "      <th>Low</th>\n",
              "      <th>Close</th>\n",
              "      <th>Adj Close</th>\n",
              "      <th>Volume</th>\n",
              "    </tr>\n",
              "    <tr>\n",
              "      <th>Date</th>\n",
              "      <th></th>\n",
              "      <th></th>\n",
              "      <th></th>\n",
              "      <th></th>\n",
              "      <th></th>\n",
              "      <th></th>\n",
              "    </tr>\n",
              "  </thead>\n",
              "  <tbody>\n",
              "    <tr>\n",
              "      <td>2018-10-10</td>\n",
              "      <td>225.460007</td>\n",
              "      <td>226.350006</td>\n",
              "      <td>216.050003</td>\n",
              "      <td>216.360001</td>\n",
              "      <td>213.863373</td>\n",
              "      <td>41990600.0</td>\n",
              "    </tr>\n",
              "    <tr>\n",
              "      <td>2018-10-11</td>\n",
              "      <td>214.520004</td>\n",
              "      <td>219.500000</td>\n",
              "      <td>212.320007</td>\n",
              "      <td>214.449997</td>\n",
              "      <td>211.975418</td>\n",
              "      <td>53124400.0</td>\n",
              "    </tr>\n",
              "    <tr>\n",
              "      <td>2018-10-12</td>\n",
              "      <td>220.419998</td>\n",
              "      <td>222.880005</td>\n",
              "      <td>216.839996</td>\n",
              "      <td>222.110001</td>\n",
              "      <td>219.547028</td>\n",
              "      <td>40337900.0</td>\n",
              "    </tr>\n",
              "    <tr>\n",
              "      <td>2018-10-15</td>\n",
              "      <td>221.160004</td>\n",
              "      <td>221.830002</td>\n",
              "      <td>217.270004</td>\n",
              "      <td>217.360001</td>\n",
              "      <td>214.851822</td>\n",
              "      <td>30791000.0</td>\n",
              "    </tr>\n",
              "    <tr>\n",
              "      <td>2018-10-16</td>\n",
              "      <td>218.929993</td>\n",
              "      <td>222.990005</td>\n",
              "      <td>216.759995</td>\n",
              "      <td>222.149994</td>\n",
              "      <td>219.586548</td>\n",
              "      <td>29184000.0</td>\n",
              "    </tr>\n",
              "    <tr>\n",
              "      <td>2018-10-17</td>\n",
              "      <td>222.300003</td>\n",
              "      <td>222.639999</td>\n",
              "      <td>219.339996</td>\n",
              "      <td>221.190002</td>\n",
              "      <td>218.637650</td>\n",
              "      <td>22885400.0</td>\n",
              "    </tr>\n",
              "    <tr>\n",
              "      <td>2018-10-18</td>\n",
              "      <td>217.860001</td>\n",
              "      <td>219.740005</td>\n",
              "      <td>213.000000</td>\n",
              "      <td>216.020004</td>\n",
              "      <td>213.527298</td>\n",
              "      <td>32581300.0</td>\n",
              "    </tr>\n",
              "    <tr>\n",
              "      <td>2018-10-19</td>\n",
              "      <td>218.059998</td>\n",
              "      <td>221.259995</td>\n",
              "      <td>217.429993</td>\n",
              "      <td>219.309998</td>\n",
              "      <td>216.779327</td>\n",
              "      <td>33078700.0</td>\n",
              "    </tr>\n",
              "  </tbody>\n",
              "</table>\n",
              "</div>"
            ],
            "text/plain": [
              "                  Open        High         Low       Close   Adj Close  \\\n",
              "Date                                                                     \n",
              "2018-10-10  225.460007  226.350006  216.050003  216.360001  213.863373   \n",
              "2018-10-11  214.520004  219.500000  212.320007  214.449997  211.975418   \n",
              "2018-10-12  220.419998  222.880005  216.839996  222.110001  219.547028   \n",
              "2018-10-15  221.160004  221.830002  217.270004  217.360001  214.851822   \n",
              "2018-10-16  218.929993  222.990005  216.759995  222.149994  219.586548   \n",
              "2018-10-17  222.300003  222.639999  219.339996  221.190002  218.637650   \n",
              "2018-10-18  217.860001  219.740005  213.000000  216.020004  213.527298   \n",
              "2018-10-19  218.059998  221.259995  217.429993  219.309998  216.779327   \n",
              "\n",
              "                Volume  \n",
              "Date                    \n",
              "2018-10-10  41990600.0  \n",
              "2018-10-11  53124400.0  \n",
              "2018-10-12  40337900.0  \n",
              "2018-10-15  30791000.0  \n",
              "2018-10-16  29184000.0  \n",
              "2018-10-17  22885400.0  \n",
              "2018-10-18  32581300.0  \n",
              "2018-10-19  33078700.0  "
            ]
          },
          "metadata": {
            "tags": []
          },
          "execution_count": 66
        }
      ]
    },
    {
      "cell_type": "code",
      "metadata": {
        "id": "5ByoKX3qMnsT",
        "colab_type": "code",
        "colab": {},
        "outputId": "6bde95e8-110f-418d-9e0b-87b4be993683"
      },
      "source": [
        "import pandas as pd\n",
        "df = pd.read_csv('./data/stock/AAPL.csv')\n",
        "df.head()"
      ],
      "execution_count": null,
      "outputs": [
        {
          "output_type": "execute_result",
          "data": {
            "text/html": [
              "<div>\n",
              "<style scoped>\n",
              "    .dataframe tbody tr th:only-of-type {\n",
              "        vertical-align: middle;\n",
              "    }\n",
              "\n",
              "    .dataframe tbody tr th {\n",
              "        vertical-align: top;\n",
              "    }\n",
              "\n",
              "    .dataframe thead th {\n",
              "        text-align: right;\n",
              "    }\n",
              "</style>\n",
              "<table border=\"1\" class=\"dataframe\">\n",
              "  <thead>\n",
              "    <tr style=\"text-align: right;\">\n",
              "      <th></th>\n",
              "      <th>Date</th>\n",
              "      <th>Open</th>\n",
              "      <th>High</th>\n",
              "      <th>Low</th>\n",
              "      <th>Close</th>\n",
              "      <th>Adj Close</th>\n",
              "      <th>Volume</th>\n",
              "    </tr>\n",
              "  </thead>\n",
              "  <tbody>\n",
              "    <tr>\n",
              "      <td>0</td>\n",
              "      <td>1980-12-12</td>\n",
              "      <td>0.513393</td>\n",
              "      <td>0.515625</td>\n",
              "      <td>0.513393</td>\n",
              "      <td>0.513393</td>\n",
              "      <td>0.410525</td>\n",
              "      <td>117258400.0</td>\n",
              "    </tr>\n",
              "    <tr>\n",
              "      <td>1</td>\n",
              "      <td>1980-12-15</td>\n",
              "      <td>0.488839</td>\n",
              "      <td>0.488839</td>\n",
              "      <td>0.486607</td>\n",
              "      <td>0.486607</td>\n",
              "      <td>0.389106</td>\n",
              "      <td>43971200.0</td>\n",
              "    </tr>\n",
              "    <tr>\n",
              "      <td>2</td>\n",
              "      <td>1980-12-16</td>\n",
              "      <td>0.453125</td>\n",
              "      <td>0.453125</td>\n",
              "      <td>0.450893</td>\n",
              "      <td>0.450893</td>\n",
              "      <td>0.360548</td>\n",
              "      <td>26432000.0</td>\n",
              "    </tr>\n",
              "    <tr>\n",
              "      <td>3</td>\n",
              "      <td>1980-12-17</td>\n",
              "      <td>0.462054</td>\n",
              "      <td>0.464286</td>\n",
              "      <td>0.462054</td>\n",
              "      <td>0.462054</td>\n",
              "      <td>0.369472</td>\n",
              "      <td>21610400.0</td>\n",
              "    </tr>\n",
              "    <tr>\n",
              "      <td>4</td>\n",
              "      <td>1980-12-18</td>\n",
              "      <td>0.475446</td>\n",
              "      <td>0.477679</td>\n",
              "      <td>0.475446</td>\n",
              "      <td>0.475446</td>\n",
              "      <td>0.380182</td>\n",
              "      <td>18362400.0</td>\n",
              "    </tr>\n",
              "  </tbody>\n",
              "</table>\n",
              "</div>"
            ],
            "text/plain": [
              "         Date      Open      High       Low     Close  Adj Close       Volume\n",
              "0  1980-12-12  0.513393  0.515625  0.513393  0.513393   0.410525  117258400.0\n",
              "1  1980-12-15  0.488839  0.488839  0.486607  0.486607   0.389106   43971200.0\n",
              "2  1980-12-16  0.453125  0.453125  0.450893  0.450893   0.360548   26432000.0\n",
              "3  1980-12-17  0.462054  0.464286  0.462054  0.462054   0.369472   21610400.0\n",
              "4  1980-12-18  0.475446  0.477679  0.475446  0.475446   0.380182   18362400.0"
            ]
          },
          "metadata": {
            "tags": []
          },
          "execution_count": 71
        }
      ]
    },
    {
      "cell_type": "code",
      "metadata": {
        "id": "17mIxrmbMnsW",
        "colab_type": "code",
        "colab": {},
        "outputId": "f5c80523-f096-4c44-f3c9-0c05c84fa155"
      },
      "source": [
        "print(type(df.index))\n",
        "print(type(df.index[0]))"
      ],
      "execution_count": null,
      "outputs": [
        {
          "output_type": "stream",
          "text": [
            "<class 'pandas.core.indexes.range.RangeIndex'>\n",
            "<class 'int'>\n"
          ],
          "name": "stdout"
        }
      ]
    },
    {
      "cell_type": "markdown",
      "metadata": {
        "id": "KhFAwidmMnsY",
        "colab_type": "text"
      },
      "source": [
        "#### loc와 iloc 인덱서"
      ]
    },
    {
      "cell_type": "markdown",
      "metadata": {
        "id": "I0h4Vf-4MnsY",
        "colab_type": "text"
      },
      "source": [
        "행 데이터 출력"
      ]
    },
    {
      "cell_type": "code",
      "metadata": {
        "id": "55-Ux0gJMnsZ",
        "colab_type": "code",
        "colab": {},
        "outputId": "4d131b9f-10bb-44cd-8f12-19ac3391b086"
      },
      "source": [
        "df = pd.read_csv('./data/stock/AAPL.csv',index_col='Date', parse_dates=['Date'])\n",
        "df.loc['1980-12-12']"
      ],
      "execution_count": null,
      "outputs": [
        {
          "output_type": "execute_result",
          "data": {
            "text/plain": [
              "Open         5.133930e-01\n",
              "High         5.156250e-01\n",
              "Low          5.133930e-01\n",
              "Close        5.133930e-01\n",
              "Adj Close    4.105250e-01\n",
              "Volume       1.172584e+08\n",
              "Name: 1980-12-12 00:00:00, dtype: float64"
            ]
          },
          "metadata": {
            "tags": []
          },
          "execution_count": 74
        }
      ]
    },
    {
      "cell_type": "code",
      "metadata": {
        "id": "pSqzRs6HMnsb",
        "colab_type": "code",
        "colab": {},
        "outputId": "2fd330d7-8a2b-4f14-e997-12f5215e0ce0"
      },
      "source": [
        "df.iloc[0]"
      ],
      "execution_count": null,
      "outputs": [
        {
          "output_type": "execute_result",
          "data": {
            "text/plain": [
              "Open         5.133930e-01\n",
              "High         5.156250e-01\n",
              "Low          5.133930e-01\n",
              "Close        5.133930e-01\n",
              "Adj Close    4.105250e-01\n",
              "Volume       1.172584e+08\n",
              "Name: 1980-12-12 00:00:00, dtype: float64"
            ]
          },
          "metadata": {
            "tags": []
          },
          "execution_count": 75
        }
      ]
    },
    {
      "cell_type": "code",
      "metadata": {
        "id": "w0toNj5pMnsd",
        "colab_type": "code",
        "colab": {},
        "outputId": "c4aa6cba-3ec4-4bf4-cc56-d10cb33013b0"
      },
      "source": [
        "type(df.loc['1980-12-12'])"
      ],
      "execution_count": null,
      "outputs": [
        {
          "output_type": "execute_result",
          "data": {
            "text/plain": [
              "pandas.core.series.Series"
            ]
          },
          "metadata": {
            "tags": []
          },
          "execution_count": 77
        }
      ]
    },
    {
      "cell_type": "code",
      "metadata": {
        "id": "dw2sVd4KMnse",
        "colab_type": "code",
        "colab": {},
        "outputId": "d32a6cf3-77a5-47f5-dc33-eb8e9daee6b0"
      },
      "source": [
        "df.index[0] == '1980-12-12'"
      ],
      "execution_count": null,
      "outputs": [
        {
          "output_type": "execute_result",
          "data": {
            "text/plain": [
              "False"
            ]
          },
          "metadata": {
            "tags": []
          },
          "execution_count": 76
        }
      ]
    },
    {
      "cell_type": "code",
      "metadata": {
        "id": "qEZnpXxYMnsg",
        "colab_type": "code",
        "colab": {}
      },
      "source": [
        "# Key Error 발생. Key값이 일치 하지 않기 때문이다.\n",
        "df.loc[['2018-10-10','2018-10-12'],'Open'] "
      ],
      "execution_count": null,
      "outputs": []
    },
    {
      "cell_type": "code",
      "metadata": {
        "id": "DubwYEZNMnsm",
        "colab_type": "code",
        "colab": {}
      },
      "source": [
        "# Type Error 발생. DataFrame에서 처리할 수 있는 Type으로 변환되지 않기 때문이다.\n",
        "df.loc[['2018-10-10','2018-10-12']:'2018-10-20','Open']"
      ],
      "execution_count": null,
      "outputs": []
    },
    {
      "cell_type": "code",
      "metadata": {
        "id": "I3xIiQjbMnsp",
        "colab_type": "code",
        "colab": {},
        "outputId": "523f8d3c-dc2a-4645-a720-f28333bac4d2"
      },
      "source": [
        "df.loc['2018-10-10':'2018-10-20',['Open','High','Low','Close']]"
      ],
      "execution_count": null,
      "outputs": [
        {
          "output_type": "execute_result",
          "data": {
            "text/html": [
              "<div>\n",
              "<style scoped>\n",
              "    .dataframe tbody tr th:only-of-type {\n",
              "        vertical-align: middle;\n",
              "    }\n",
              "\n",
              "    .dataframe tbody tr th {\n",
              "        vertical-align: top;\n",
              "    }\n",
              "\n",
              "    .dataframe thead th {\n",
              "        text-align: right;\n",
              "    }\n",
              "</style>\n",
              "<table border=\"1\" class=\"dataframe\">\n",
              "  <thead>\n",
              "    <tr style=\"text-align: right;\">\n",
              "      <th></th>\n",
              "      <th>Open</th>\n",
              "      <th>High</th>\n",
              "      <th>Low</th>\n",
              "      <th>Close</th>\n",
              "    </tr>\n",
              "    <tr>\n",
              "      <th>Date</th>\n",
              "      <th></th>\n",
              "      <th></th>\n",
              "      <th></th>\n",
              "      <th></th>\n",
              "    </tr>\n",
              "  </thead>\n",
              "  <tbody>\n",
              "    <tr>\n",
              "      <td>2018-10-10</td>\n",
              "      <td>225.460007</td>\n",
              "      <td>226.350006</td>\n",
              "      <td>216.050003</td>\n",
              "      <td>216.360001</td>\n",
              "    </tr>\n",
              "    <tr>\n",
              "      <td>2018-10-11</td>\n",
              "      <td>214.520004</td>\n",
              "      <td>219.500000</td>\n",
              "      <td>212.320007</td>\n",
              "      <td>214.449997</td>\n",
              "    </tr>\n",
              "    <tr>\n",
              "      <td>2018-10-12</td>\n",
              "      <td>220.419998</td>\n",
              "      <td>222.880005</td>\n",
              "      <td>216.839996</td>\n",
              "      <td>222.110001</td>\n",
              "    </tr>\n",
              "    <tr>\n",
              "      <td>2018-10-15</td>\n",
              "      <td>221.160004</td>\n",
              "      <td>221.830002</td>\n",
              "      <td>217.270004</td>\n",
              "      <td>217.360001</td>\n",
              "    </tr>\n",
              "    <tr>\n",
              "      <td>2018-10-16</td>\n",
              "      <td>218.929993</td>\n",
              "      <td>222.990005</td>\n",
              "      <td>216.759995</td>\n",
              "      <td>222.149994</td>\n",
              "    </tr>\n",
              "    <tr>\n",
              "      <td>2018-10-17</td>\n",
              "      <td>222.300003</td>\n",
              "      <td>222.639999</td>\n",
              "      <td>219.339996</td>\n",
              "      <td>221.190002</td>\n",
              "    </tr>\n",
              "    <tr>\n",
              "      <td>2018-10-18</td>\n",
              "      <td>217.860001</td>\n",
              "      <td>219.740005</td>\n",
              "      <td>213.000000</td>\n",
              "      <td>216.020004</td>\n",
              "    </tr>\n",
              "    <tr>\n",
              "      <td>2018-10-19</td>\n",
              "      <td>218.059998</td>\n",
              "      <td>221.259995</td>\n",
              "      <td>217.429993</td>\n",
              "      <td>219.309998</td>\n",
              "    </tr>\n",
              "  </tbody>\n",
              "</table>\n",
              "</div>"
            ],
            "text/plain": [
              "                  Open        High         Low       Close\n",
              "Date                                                      \n",
              "2018-10-10  225.460007  226.350006  216.050003  216.360001\n",
              "2018-10-11  214.520004  219.500000  212.320007  214.449997\n",
              "2018-10-12  220.419998  222.880005  216.839996  222.110001\n",
              "2018-10-15  221.160004  221.830002  217.270004  217.360001\n",
              "2018-10-16  218.929993  222.990005  216.759995  222.149994\n",
              "2018-10-17  222.300003  222.639999  219.339996  221.190002\n",
              "2018-10-18  217.860001  219.740005  213.000000  216.020004\n",
              "2018-10-19  218.059998  221.259995  217.429993  219.309998"
            ]
          },
          "metadata": {
            "tags": []
          },
          "execution_count": 79
        }
      ]
    },
    {
      "cell_type": "code",
      "metadata": {
        "id": "CbMs1sZmMnsr",
        "colab_type": "code",
        "colab": {},
        "outputId": "aded6db2-9eec-4f8d-f8ab-bf757478361f"
      },
      "source": [
        "df.iloc[8000:8010,[0,1,2,3]]"
      ],
      "execution_count": null,
      "outputs": [
        {
          "output_type": "execute_result",
          "data": {
            "text/html": [
              "<div>\n",
              "<style scoped>\n",
              "    .dataframe tbody tr th:only-of-type {\n",
              "        vertical-align: middle;\n",
              "    }\n",
              "\n",
              "    .dataframe tbody tr th {\n",
              "        vertical-align: top;\n",
              "    }\n",
              "\n",
              "    .dataframe thead th {\n",
              "        text-align: right;\n",
              "    }\n",
              "</style>\n",
              "<table border=\"1\" class=\"dataframe\">\n",
              "  <thead>\n",
              "    <tr style=\"text-align: right;\">\n",
              "      <th></th>\n",
              "      <th>Open</th>\n",
              "      <th>High</th>\n",
              "      <th>Low</th>\n",
              "      <th>Close</th>\n",
              "    </tr>\n",
              "    <tr>\n",
              "      <th>Date</th>\n",
              "      <th></th>\n",
              "      <th></th>\n",
              "      <th></th>\n",
              "      <th></th>\n",
              "    </tr>\n",
              "  </thead>\n",
              "  <tbody>\n",
              "    <tr>\n",
              "      <td>2012-08-28</td>\n",
              "      <td>96.425713</td>\n",
              "      <td>96.585716</td>\n",
              "      <td>95.809998</td>\n",
              "      <td>96.400002</td>\n",
              "    </tr>\n",
              "    <tr>\n",
              "      <td>2012-08-29</td>\n",
              "      <td>96.464287</td>\n",
              "      <td>96.809998</td>\n",
              "      <td>96.085716</td>\n",
              "      <td>96.209999</td>\n",
              "    </tr>\n",
              "    <tr>\n",
              "      <td>2012-08-30</td>\n",
              "      <td>95.805717</td>\n",
              "      <td>95.935715</td>\n",
              "      <td>94.692856</td>\n",
              "      <td>94.838570</td>\n",
              "    </tr>\n",
              "    <tr>\n",
              "      <td>2012-08-31</td>\n",
              "      <td>95.321426</td>\n",
              "      <td>95.514282</td>\n",
              "      <td>93.892860</td>\n",
              "      <td>95.034286</td>\n",
              "    </tr>\n",
              "    <tr>\n",
              "      <td>2012-09-04</td>\n",
              "      <td>95.108574</td>\n",
              "      <td>96.448570</td>\n",
              "      <td>94.928574</td>\n",
              "      <td>96.424286</td>\n",
              "    </tr>\n",
              "    <tr>\n",
              "      <td>2012-09-05</td>\n",
              "      <td>96.510002</td>\n",
              "      <td>96.621429</td>\n",
              "      <td>95.657143</td>\n",
              "      <td>95.747147</td>\n",
              "    </tr>\n",
              "    <tr>\n",
              "      <td>2012-09-06</td>\n",
              "      <td>96.167145</td>\n",
              "      <td>96.898575</td>\n",
              "      <td>95.828575</td>\n",
              "      <td>96.610001</td>\n",
              "    </tr>\n",
              "    <tr>\n",
              "      <td>2012-09-07</td>\n",
              "      <td>96.864288</td>\n",
              "      <td>97.497147</td>\n",
              "      <td>96.538574</td>\n",
              "      <td>97.205711</td>\n",
              "    </tr>\n",
              "    <tr>\n",
              "      <td>2012-09-10</td>\n",
              "      <td>97.207146</td>\n",
              "      <td>97.612854</td>\n",
              "      <td>94.585716</td>\n",
              "      <td>94.677139</td>\n",
              "    </tr>\n",
              "    <tr>\n",
              "      <td>2012-09-11</td>\n",
              "      <td>95.015717</td>\n",
              "      <td>95.728569</td>\n",
              "      <td>93.785713</td>\n",
              "      <td>94.370003</td>\n",
              "    </tr>\n",
              "  </tbody>\n",
              "</table>\n",
              "</div>"
            ],
            "text/plain": [
              "                 Open       High        Low      Close\n",
              "Date                                                  \n",
              "2012-08-28  96.425713  96.585716  95.809998  96.400002\n",
              "2012-08-29  96.464287  96.809998  96.085716  96.209999\n",
              "2012-08-30  95.805717  95.935715  94.692856  94.838570\n",
              "2012-08-31  95.321426  95.514282  93.892860  95.034286\n",
              "2012-09-04  95.108574  96.448570  94.928574  96.424286\n",
              "2012-09-05  96.510002  96.621429  95.657143  95.747147\n",
              "2012-09-06  96.167145  96.898575  95.828575  96.610001\n",
              "2012-09-07  96.864288  97.497147  96.538574  97.205711\n",
              "2012-09-10  97.207146  97.612854  94.585716  94.677139\n",
              "2012-09-11  95.015717  95.728569  93.785713  94.370003"
            ]
          },
          "metadata": {
            "tags": []
          },
          "execution_count": 85
        }
      ]
    },
    {
      "cell_type": "markdown",
      "metadata": {
        "id": "eU7-zIW_Mnst",
        "colab_type": "text"
      },
      "source": [
        "ISO8601을 따르고 있기에 강력한 기능 <br/>\n",
        "Although the default pandas datetime format is ISO8601 (“yyyy-mm-dd hh:mm:ss”) when selecting data using partial string indexing it understands a lot of other different formats.\n",
        "\n",
        "http://sergilehkyi.com/tips-on-working-with-datetime-index-in-pandas/"
      ]
    },
    {
      "cell_type": "code",
      "metadata": {
        "id": "jfSfzrw_Mnsu",
        "colab_type": "code",
        "colab": {},
        "outputId": "c7b6aa93-5519-4968-ec80-a605595d7654"
      },
      "source": [
        "df.loc['2016-11'].head()"
      ],
      "execution_count": null,
      "outputs": [
        {
          "output_type": "execute_result",
          "data": {
            "text/html": [
              "<div>\n",
              "<style scoped>\n",
              "    .dataframe tbody tr th:only-of-type {\n",
              "        vertical-align: middle;\n",
              "    }\n",
              "\n",
              "    .dataframe tbody tr th {\n",
              "        vertical-align: top;\n",
              "    }\n",
              "\n",
              "    .dataframe thead th {\n",
              "        text-align: right;\n",
              "    }\n",
              "</style>\n",
              "<table border=\"1\" class=\"dataframe\">\n",
              "  <thead>\n",
              "    <tr style=\"text-align: right;\">\n",
              "      <th></th>\n",
              "      <th>Open</th>\n",
              "      <th>High</th>\n",
              "      <th>Low</th>\n",
              "      <th>Close</th>\n",
              "      <th>Adj Close</th>\n",
              "      <th>Volume</th>\n",
              "    </tr>\n",
              "    <tr>\n",
              "      <th>Date</th>\n",
              "      <th></th>\n",
              "      <th></th>\n",
              "      <th></th>\n",
              "      <th></th>\n",
              "      <th></th>\n",
              "      <th></th>\n",
              "    </tr>\n",
              "  </thead>\n",
              "  <tbody>\n",
              "    <tr>\n",
              "      <td>2016-11-01</td>\n",
              "      <td>113.459999</td>\n",
              "      <td>113.769997</td>\n",
              "      <td>110.529999</td>\n",
              "      <td>111.489998</td>\n",
              "      <td>106.680237</td>\n",
              "      <td>43825800.0</td>\n",
              "    </tr>\n",
              "    <tr>\n",
              "      <td>2016-11-02</td>\n",
              "      <td>111.400002</td>\n",
              "      <td>112.349998</td>\n",
              "      <td>111.230003</td>\n",
              "      <td>111.589996</td>\n",
              "      <td>106.775925</td>\n",
              "      <td>28331700.0</td>\n",
              "    </tr>\n",
              "    <tr>\n",
              "      <td>2016-11-03</td>\n",
              "      <td>110.980003</td>\n",
              "      <td>111.459999</td>\n",
              "      <td>109.550003</td>\n",
              "      <td>109.830002</td>\n",
              "      <td>105.631424</td>\n",
              "      <td>26932600.0</td>\n",
              "    </tr>\n",
              "    <tr>\n",
              "      <td>2016-11-04</td>\n",
              "      <td>108.529999</td>\n",
              "      <td>110.250000</td>\n",
              "      <td>108.110001</td>\n",
              "      <td>108.839996</td>\n",
              "      <td>104.679260</td>\n",
              "      <td>30837000.0</td>\n",
              "    </tr>\n",
              "    <tr>\n",
              "      <td>2016-11-07</td>\n",
              "      <td>110.080002</td>\n",
              "      <td>110.510002</td>\n",
              "      <td>109.459999</td>\n",
              "      <td>110.410004</td>\n",
              "      <td>106.189255</td>\n",
              "      <td>32560000.0</td>\n",
              "    </tr>\n",
              "  </tbody>\n",
              "</table>\n",
              "</div>"
            ],
            "text/plain": [
              "                  Open        High         Low       Close   Adj Close  \\\n",
              "Date                                                                     \n",
              "2016-11-01  113.459999  113.769997  110.529999  111.489998  106.680237   \n",
              "2016-11-02  111.400002  112.349998  111.230003  111.589996  106.775925   \n",
              "2016-11-03  110.980003  111.459999  109.550003  109.830002  105.631424   \n",
              "2016-11-04  108.529999  110.250000  108.110001  108.839996  104.679260   \n",
              "2016-11-07  110.080002  110.510002  109.459999  110.410004  106.189255   \n",
              "\n",
              "                Volume  \n",
              "Date                    \n",
              "2016-11-01  43825800.0  \n",
              "2016-11-02  28331700.0  \n",
              "2016-11-03  26932600.0  \n",
              "2016-11-04  30837000.0  \n",
              "2016-11-07  32560000.0  "
            ]
          },
          "metadata": {
            "tags": []
          },
          "execution_count": 82
        }
      ]
    },
    {
      "cell_type": "code",
      "metadata": {
        "id": "cDnB6HnoMnsv",
        "colab_type": "code",
        "colab": {},
        "outputId": "c884d669-64a2-4d4e-ab9a-583ae071021b"
      },
      "source": [
        "df.loc['2016-Nov-1':'2016-Nov-10'].head()"
      ],
      "execution_count": null,
      "outputs": [
        {
          "output_type": "execute_result",
          "data": {
            "text/html": [
              "<div>\n",
              "<style scoped>\n",
              "    .dataframe tbody tr th:only-of-type {\n",
              "        vertical-align: middle;\n",
              "    }\n",
              "\n",
              "    .dataframe tbody tr th {\n",
              "        vertical-align: top;\n",
              "    }\n",
              "\n",
              "    .dataframe thead th {\n",
              "        text-align: right;\n",
              "    }\n",
              "</style>\n",
              "<table border=\"1\" class=\"dataframe\">\n",
              "  <thead>\n",
              "    <tr style=\"text-align: right;\">\n",
              "      <th></th>\n",
              "      <th>Open</th>\n",
              "      <th>High</th>\n",
              "      <th>Low</th>\n",
              "      <th>Close</th>\n",
              "      <th>Adj Close</th>\n",
              "      <th>Volume</th>\n",
              "    </tr>\n",
              "    <tr>\n",
              "      <th>Date</th>\n",
              "      <th></th>\n",
              "      <th></th>\n",
              "      <th></th>\n",
              "      <th></th>\n",
              "      <th></th>\n",
              "      <th></th>\n",
              "    </tr>\n",
              "  </thead>\n",
              "  <tbody>\n",
              "    <tr>\n",
              "      <td>2016-11-01</td>\n",
              "      <td>113.459999</td>\n",
              "      <td>113.769997</td>\n",
              "      <td>110.529999</td>\n",
              "      <td>111.489998</td>\n",
              "      <td>106.680237</td>\n",
              "      <td>43825800.0</td>\n",
              "    </tr>\n",
              "    <tr>\n",
              "      <td>2016-11-02</td>\n",
              "      <td>111.400002</td>\n",
              "      <td>112.349998</td>\n",
              "      <td>111.230003</td>\n",
              "      <td>111.589996</td>\n",
              "      <td>106.775925</td>\n",
              "      <td>28331700.0</td>\n",
              "    </tr>\n",
              "    <tr>\n",
              "      <td>2016-11-03</td>\n",
              "      <td>110.980003</td>\n",
              "      <td>111.459999</td>\n",
              "      <td>109.550003</td>\n",
              "      <td>109.830002</td>\n",
              "      <td>105.631424</td>\n",
              "      <td>26932600.0</td>\n",
              "    </tr>\n",
              "    <tr>\n",
              "      <td>2016-11-04</td>\n",
              "      <td>108.529999</td>\n",
              "      <td>110.250000</td>\n",
              "      <td>108.110001</td>\n",
              "      <td>108.839996</td>\n",
              "      <td>104.679260</td>\n",
              "      <td>30837000.0</td>\n",
              "    </tr>\n",
              "    <tr>\n",
              "      <td>2016-11-07</td>\n",
              "      <td>110.080002</td>\n",
              "      <td>110.510002</td>\n",
              "      <td>109.459999</td>\n",
              "      <td>110.410004</td>\n",
              "      <td>106.189255</td>\n",
              "      <td>32560000.0</td>\n",
              "    </tr>\n",
              "  </tbody>\n",
              "</table>\n",
              "</div>"
            ],
            "text/plain": [
              "                  Open        High         Low       Close   Adj Close  \\\n",
              "Date                                                                     \n",
              "2016-11-01  113.459999  113.769997  110.529999  111.489998  106.680237   \n",
              "2016-11-02  111.400002  112.349998  111.230003  111.589996  106.775925   \n",
              "2016-11-03  110.980003  111.459999  109.550003  109.830002  105.631424   \n",
              "2016-11-04  108.529999  110.250000  108.110001  108.839996  104.679260   \n",
              "2016-11-07  110.080002  110.510002  109.459999  110.410004  106.189255   \n",
              "\n",
              "                Volume  \n",
              "Date                    \n",
              "2016-11-01  43825800.0  \n",
              "2016-11-02  28331700.0  \n",
              "2016-11-03  26932600.0  \n",
              "2016-11-04  30837000.0  \n",
              "2016-11-07  32560000.0  "
            ]
          },
          "metadata": {
            "tags": []
          },
          "execution_count": 83
        }
      ]
    },
    {
      "cell_type": "code",
      "metadata": {
        "id": "NV1iLtfvMnsx",
        "colab_type": "code",
        "colab": {},
        "outputId": "6fe541d7-06c5-4eac-9ca5-f8eb890e30d9"
      },
      "source": [
        "df.loc['November 1, 2016':'November 10, 2016'].head()"
      ],
      "execution_count": null,
      "outputs": [
        {
          "output_type": "execute_result",
          "data": {
            "text/html": [
              "<div>\n",
              "<style scoped>\n",
              "    .dataframe tbody tr th:only-of-type {\n",
              "        vertical-align: middle;\n",
              "    }\n",
              "\n",
              "    .dataframe tbody tr th {\n",
              "        vertical-align: top;\n",
              "    }\n",
              "\n",
              "    .dataframe thead th {\n",
              "        text-align: right;\n",
              "    }\n",
              "</style>\n",
              "<table border=\"1\" class=\"dataframe\">\n",
              "  <thead>\n",
              "    <tr style=\"text-align: right;\">\n",
              "      <th></th>\n",
              "      <th>Open</th>\n",
              "      <th>High</th>\n",
              "      <th>Low</th>\n",
              "      <th>Close</th>\n",
              "      <th>Adj Close</th>\n",
              "      <th>Volume</th>\n",
              "    </tr>\n",
              "    <tr>\n",
              "      <th>Date</th>\n",
              "      <th></th>\n",
              "      <th></th>\n",
              "      <th></th>\n",
              "      <th></th>\n",
              "      <th></th>\n",
              "      <th></th>\n",
              "    </tr>\n",
              "  </thead>\n",
              "  <tbody>\n",
              "    <tr>\n",
              "      <td>2016-11-01</td>\n",
              "      <td>113.459999</td>\n",
              "      <td>113.769997</td>\n",
              "      <td>110.529999</td>\n",
              "      <td>111.489998</td>\n",
              "      <td>106.680237</td>\n",
              "      <td>43825800.0</td>\n",
              "    </tr>\n",
              "    <tr>\n",
              "      <td>2016-11-02</td>\n",
              "      <td>111.400002</td>\n",
              "      <td>112.349998</td>\n",
              "      <td>111.230003</td>\n",
              "      <td>111.589996</td>\n",
              "      <td>106.775925</td>\n",
              "      <td>28331700.0</td>\n",
              "    </tr>\n",
              "    <tr>\n",
              "      <td>2016-11-03</td>\n",
              "      <td>110.980003</td>\n",
              "      <td>111.459999</td>\n",
              "      <td>109.550003</td>\n",
              "      <td>109.830002</td>\n",
              "      <td>105.631424</td>\n",
              "      <td>26932600.0</td>\n",
              "    </tr>\n",
              "    <tr>\n",
              "      <td>2016-11-04</td>\n",
              "      <td>108.529999</td>\n",
              "      <td>110.250000</td>\n",
              "      <td>108.110001</td>\n",
              "      <td>108.839996</td>\n",
              "      <td>104.679260</td>\n",
              "      <td>30837000.0</td>\n",
              "    </tr>\n",
              "    <tr>\n",
              "      <td>2016-11-07</td>\n",
              "      <td>110.080002</td>\n",
              "      <td>110.510002</td>\n",
              "      <td>109.459999</td>\n",
              "      <td>110.410004</td>\n",
              "      <td>106.189255</td>\n",
              "      <td>32560000.0</td>\n",
              "    </tr>\n",
              "  </tbody>\n",
              "</table>\n",
              "</div>"
            ],
            "text/plain": [
              "                  Open        High         Low       Close   Adj Close  \\\n",
              "Date                                                                     \n",
              "2016-11-01  113.459999  113.769997  110.529999  111.489998  106.680237   \n",
              "2016-11-02  111.400002  112.349998  111.230003  111.589996  106.775925   \n",
              "2016-11-03  110.980003  111.459999  109.550003  109.830002  105.631424   \n",
              "2016-11-04  108.529999  110.250000  108.110001  108.839996  104.679260   \n",
              "2016-11-07  110.080002  110.510002  109.459999  110.410004  106.189255   \n",
              "\n",
              "                Volume  \n",
              "Date                    \n",
              "2016-11-01  43825800.0  \n",
              "2016-11-02  28331700.0  \n",
              "2016-11-03  26932600.0  \n",
              "2016-11-04  30837000.0  \n",
              "2016-11-07  32560000.0  "
            ]
          },
          "metadata": {
            "tags": []
          },
          "execution_count": 84
        }
      ]
    },
    {
      "cell_type": "code",
      "metadata": {
        "id": "a6XzjgE3Mns1",
        "colab_type": "code",
        "colab": {},
        "outputId": "998b6091-dcda-4dd2-cc05-7a3895d728f6"
      },
      "source": [
        "df.loc['2018-10-10':'2018-10-20']"
      ],
      "execution_count": null,
      "outputs": [
        {
          "output_type": "execute_result",
          "data": {
            "text/html": [
              "<div>\n",
              "<style scoped>\n",
              "    .dataframe tbody tr th:only-of-type {\n",
              "        vertical-align: middle;\n",
              "    }\n",
              "\n",
              "    .dataframe tbody tr th {\n",
              "        vertical-align: top;\n",
              "    }\n",
              "\n",
              "    .dataframe thead th {\n",
              "        text-align: right;\n",
              "    }\n",
              "</style>\n",
              "<table border=\"1\" class=\"dataframe\">\n",
              "  <thead>\n",
              "    <tr style=\"text-align: right;\">\n",
              "      <th></th>\n",
              "      <th>Open</th>\n",
              "      <th>High</th>\n",
              "      <th>Low</th>\n",
              "      <th>Close</th>\n",
              "      <th>Adj Close</th>\n",
              "      <th>Volume</th>\n",
              "    </tr>\n",
              "    <tr>\n",
              "      <th>Date</th>\n",
              "      <th></th>\n",
              "      <th></th>\n",
              "      <th></th>\n",
              "      <th></th>\n",
              "      <th></th>\n",
              "      <th></th>\n",
              "    </tr>\n",
              "  </thead>\n",
              "  <tbody>\n",
              "    <tr>\n",
              "      <td>2018-10-10</td>\n",
              "      <td>225.460007</td>\n",
              "      <td>226.350006</td>\n",
              "      <td>216.050003</td>\n",
              "      <td>216.360001</td>\n",
              "      <td>213.863373</td>\n",
              "      <td>41990600.0</td>\n",
              "    </tr>\n",
              "    <tr>\n",
              "      <td>2018-10-11</td>\n",
              "      <td>214.520004</td>\n",
              "      <td>219.500000</td>\n",
              "      <td>212.320007</td>\n",
              "      <td>214.449997</td>\n",
              "      <td>211.975418</td>\n",
              "      <td>53124400.0</td>\n",
              "    </tr>\n",
              "    <tr>\n",
              "      <td>2018-10-12</td>\n",
              "      <td>220.419998</td>\n",
              "      <td>222.880005</td>\n",
              "      <td>216.839996</td>\n",
              "      <td>222.110001</td>\n",
              "      <td>219.547028</td>\n",
              "      <td>40337900.0</td>\n",
              "    </tr>\n",
              "    <tr>\n",
              "      <td>2018-10-15</td>\n",
              "      <td>221.160004</td>\n",
              "      <td>221.830002</td>\n",
              "      <td>217.270004</td>\n",
              "      <td>217.360001</td>\n",
              "      <td>214.851822</td>\n",
              "      <td>30791000.0</td>\n",
              "    </tr>\n",
              "    <tr>\n",
              "      <td>2018-10-16</td>\n",
              "      <td>218.929993</td>\n",
              "      <td>222.990005</td>\n",
              "      <td>216.759995</td>\n",
              "      <td>222.149994</td>\n",
              "      <td>219.586548</td>\n",
              "      <td>29184000.0</td>\n",
              "    </tr>\n",
              "    <tr>\n",
              "      <td>2018-10-17</td>\n",
              "      <td>222.300003</td>\n",
              "      <td>222.639999</td>\n",
              "      <td>219.339996</td>\n",
              "      <td>221.190002</td>\n",
              "      <td>218.637650</td>\n",
              "      <td>22885400.0</td>\n",
              "    </tr>\n",
              "    <tr>\n",
              "      <td>2018-10-18</td>\n",
              "      <td>217.860001</td>\n",
              "      <td>219.740005</td>\n",
              "      <td>213.000000</td>\n",
              "      <td>216.020004</td>\n",
              "      <td>213.527298</td>\n",
              "      <td>32581300.0</td>\n",
              "    </tr>\n",
              "    <tr>\n",
              "      <td>2018-10-19</td>\n",
              "      <td>218.059998</td>\n",
              "      <td>221.259995</td>\n",
              "      <td>217.429993</td>\n",
              "      <td>219.309998</td>\n",
              "      <td>216.779327</td>\n",
              "      <td>33078700.0</td>\n",
              "    </tr>\n",
              "  </tbody>\n",
              "</table>\n",
              "</div>"
            ],
            "text/plain": [
              "                  Open        High         Low       Close   Adj Close  \\\n",
              "Date                                                                     \n",
              "2018-10-10  225.460007  226.350006  216.050003  216.360001  213.863373   \n",
              "2018-10-11  214.520004  219.500000  212.320007  214.449997  211.975418   \n",
              "2018-10-12  220.419998  222.880005  216.839996  222.110001  219.547028   \n",
              "2018-10-15  221.160004  221.830002  217.270004  217.360001  214.851822   \n",
              "2018-10-16  218.929993  222.990005  216.759995  222.149994  219.586548   \n",
              "2018-10-17  222.300003  222.639999  219.339996  221.190002  218.637650   \n",
              "2018-10-18  217.860001  219.740005  213.000000  216.020004  213.527298   \n",
              "2018-10-19  218.059998  221.259995  217.429993  219.309998  216.779327   \n",
              "\n",
              "                Volume  \n",
              "Date                    \n",
              "2018-10-10  41990600.0  \n",
              "2018-10-11  53124400.0  \n",
              "2018-10-12  40337900.0  \n",
              "2018-10-15  30791000.0  \n",
              "2018-10-16  29184000.0  \n",
              "2018-10-17  22885400.0  \n",
              "2018-10-18  32581300.0  \n",
              "2018-10-19  33078700.0  "
            ]
          },
          "metadata": {
            "tags": []
          },
          "execution_count": 86
        }
      ]
    },
    {
      "cell_type": "markdown",
      "metadata": {
        "id": "zzPurxqNMns4",
        "colab_type": "text"
      },
      "source": [
        "## 2.2.4 금융 시계열 데이터 분석에 유용한 pandas 함수들"
      ]
    },
    {
      "cell_type": "markdown",
      "metadata": {
        "id": "gUlMeGHvMns5",
        "colab_type": "text"
      },
      "source": [
        "#### Shifting and lags\n",
        "우리는 원하는 시간 주기로 간격만큼 index를 shift할 수 있다. <br/>\n",
        "shift 함수는 pandas를 이용할때 다양한 곳에서 유용하게 사용된다. 다른 시간의 시계열 데이터와 비교할 때 유용하다.<br/>\n"
      ]
    },
    {
      "cell_type": "code",
      "metadata": {
        "id": "pVaTurjbMns5",
        "colab_type": "code",
        "colab": {},
        "outputId": "77f18195-6866-4c4f-ec26-6b003291b4e7"
      },
      "source": [
        "aapl_df.head()"
      ],
      "execution_count": null,
      "outputs": [
        {
          "output_type": "execute_result",
          "data": {
            "text/html": [
              "<div>\n",
              "<style scoped>\n",
              "    .dataframe tbody tr th:only-of-type {\n",
              "        vertical-align: middle;\n",
              "    }\n",
              "\n",
              "    .dataframe tbody tr th {\n",
              "        vertical-align: top;\n",
              "    }\n",
              "\n",
              "    .dataframe thead th {\n",
              "        text-align: right;\n",
              "    }\n",
              "</style>\n",
              "<table border=\"1\" class=\"dataframe\">\n",
              "  <thead>\n",
              "    <tr style=\"text-align: right;\">\n",
              "      <th></th>\n",
              "      <th>Open</th>\n",
              "      <th>High</th>\n",
              "      <th>Low</th>\n",
              "      <th>Close</th>\n",
              "      <th>Adj Close</th>\n",
              "      <th>Volume</th>\n",
              "    </tr>\n",
              "    <tr>\n",
              "      <th>Date</th>\n",
              "      <th></th>\n",
              "      <th></th>\n",
              "      <th></th>\n",
              "      <th></th>\n",
              "      <th></th>\n",
              "      <th></th>\n",
              "    </tr>\n",
              "  </thead>\n",
              "  <tbody>\n",
              "    <tr>\n",
              "      <td>1980-12-12</td>\n",
              "      <td>0.513393</td>\n",
              "      <td>0.515625</td>\n",
              "      <td>0.513393</td>\n",
              "      <td>0.513393</td>\n",
              "      <td>0.410525</td>\n",
              "      <td>117258400.0</td>\n",
              "    </tr>\n",
              "    <tr>\n",
              "      <td>1980-12-15</td>\n",
              "      <td>0.488839</td>\n",
              "      <td>0.488839</td>\n",
              "      <td>0.486607</td>\n",
              "      <td>0.486607</td>\n",
              "      <td>0.389106</td>\n",
              "      <td>43971200.0</td>\n",
              "    </tr>\n",
              "    <tr>\n",
              "      <td>1980-12-16</td>\n",
              "      <td>0.453125</td>\n",
              "      <td>0.453125</td>\n",
              "      <td>0.450893</td>\n",
              "      <td>0.450893</td>\n",
              "      <td>0.360548</td>\n",
              "      <td>26432000.0</td>\n",
              "    </tr>\n",
              "    <tr>\n",
              "      <td>1980-12-17</td>\n",
              "      <td>0.462054</td>\n",
              "      <td>0.464286</td>\n",
              "      <td>0.462054</td>\n",
              "      <td>0.462054</td>\n",
              "      <td>0.369472</td>\n",
              "      <td>21610400.0</td>\n",
              "    </tr>\n",
              "    <tr>\n",
              "      <td>1980-12-18</td>\n",
              "      <td>0.475446</td>\n",
              "      <td>0.477679</td>\n",
              "      <td>0.475446</td>\n",
              "      <td>0.475446</td>\n",
              "      <td>0.380182</td>\n",
              "      <td>18362400.0</td>\n",
              "    </tr>\n",
              "  </tbody>\n",
              "</table>\n",
              "</div>"
            ],
            "text/plain": [
              "                Open      High       Low     Close  Adj Close       Volume\n",
              "Date                                                                      \n",
              "1980-12-12  0.513393  0.515625  0.513393  0.513393   0.410525  117258400.0\n",
              "1980-12-15  0.488839  0.488839  0.486607  0.486607   0.389106   43971200.0\n",
              "1980-12-16  0.453125  0.453125  0.450893  0.450893   0.360548   26432000.0\n",
              "1980-12-17  0.462054  0.464286  0.462054  0.462054   0.369472   21610400.0\n",
              "1980-12-18  0.475446  0.477679  0.475446  0.475446   0.380182   18362400.0"
            ]
          },
          "metadata": {
            "tags": []
          },
          "execution_count": 87
        }
      ]
    },
    {
      "cell_type": "code",
      "metadata": {
        "id": "ZbOLIAZjMns7",
        "colab_type": "code",
        "colab": {}
      },
      "source": [
        "aapl_df['Close_lag1'] = aapl_df['Close'].shift(1) "
      ],
      "execution_count": null,
      "outputs": []
    },
    {
      "cell_type": "code",
      "metadata": {
        "id": "JFtfGZG2Mns-",
        "colab_type": "code",
        "colab": {}
      },
      "source": [
        "aapl_df.head()"
      ],
      "execution_count": null,
      "outputs": []
    },
    {
      "cell_type": "code",
      "metadata": {
        "id": "y8T0eBdSMntA",
        "colab_type": "code",
        "colab": {}
      },
      "source": [
        "aapl_df['Close'].asfreq('M',method='ffill').plot(legend=True)\n",
        "shifted = aapl_df['Close'].asfreq('M',method='ffill').shift(10).plot(legend = True)\n",
        "shifted.legend(['Close','Close_lagged'])\n",
        "plt.show()"
      ],
      "execution_count": null,
      "outputs": []
    },
    {
      "cell_type": "markdown",
      "metadata": {
        "id": "xpNzGOIWMntB",
        "colab_type": "text"
      },
      "source": [
        "#### 1.9 Percent change\n",
        "\n",
        "우리는 금융시계열을 다루니 하루하루 주가가 어느정도 변동하는지 간단하게 살펴보자."
      ]
    },
    {
      "cell_type": "code",
      "metadata": {
        "id": "fEGbBjZYMntC",
        "colab_type": "code",
        "colab": {}
      },
      "source": [
        "aapl_df['pct_change'] = aapl_df['Close'].pct_change()"
      ],
      "execution_count": null,
      "outputs": []
    },
    {
      "cell_type": "code",
      "metadata": {
        "id": "0EYNpiy_MntF",
        "colab_type": "code",
        "colab": {}
      },
      "source": [
        "aapl_df.head(10)"
      ],
      "execution_count": null,
      "outputs": []
    },
    {
      "cell_type": "code",
      "metadata": {
        "id": "5sk2Ly46MntH",
        "colab_type": "code",
        "colab": {}
      },
      "source": [
        "aapl_df['Close'].pct_change().plot()"
      ],
      "execution_count": null,
      "outputs": []
    },
    {
      "cell_type": "markdown",
      "metadata": {
        "id": "R7jAqVapMntJ",
        "colab_type": "text"
      },
      "source": [
        "#### Diff"
      ]
    },
    {
      "cell_type": "code",
      "metadata": {
        "id": "DCFquPS2MntJ",
        "colab_type": "code",
        "colab": {}
      },
      "source": [
        "aapl_df['Close_diff'] = aapl_df['Close'].diff()"
      ],
      "execution_count": null,
      "outputs": []
    },
    {
      "cell_type": "code",
      "metadata": {
        "id": "jZp7Y20jMntN",
        "colab_type": "code",
        "colab": {}
      },
      "source": [
        "# aapl_df['Close'].shift()"
      ],
      "execution_count": null,
      "outputs": []
    },
    {
      "cell_type": "code",
      "metadata": {
        "id": "_29n-JRUMntO",
        "colab_type": "code",
        "colab": {}
      },
      "source": [
        "print(aapl_df['Close'].diff().head())\n",
        "aapl_df['Close'].diff().plot()"
      ],
      "execution_count": null,
      "outputs": []
    },
    {
      "cell_type": "code",
      "metadata": {
        "id": "m3fFhQJ3MntR",
        "colab_type": "code",
        "colab": {}
      },
      "source": [
        "print((aapl_df['Close'] /aapl_df['Close'].shift(1) -1).head())\n",
        "(aapl_df['Close'] /aapl_df['Close'].shift(1) -1).plot()"
      ],
      "execution_count": null,
      "outputs": []
    },
    {
      "cell_type": "code",
      "metadata": {
        "id": "r5fA6TAQMntT",
        "colab_type": "code",
        "colab": {}
      },
      "source": [
        "print((aapl_df['Close'].diff() /aapl_df['Close'].shift(1)).head())\n",
        "(aapl_df['Close'].diff() /aapl_df['Close'].shift(1)).plot()"
      ],
      "execution_count": null,
      "outputs": []
    },
    {
      "cell_type": "markdown",
      "metadata": {
        "id": "vgiHulUEMntW",
        "colab_type": "text"
      },
      "source": [
        "#### Rolling"
      ]
    },
    {
      "cell_type": "code",
      "metadata": {
        "id": "Pmw9iLObMntX",
        "colab_type": "code",
        "colab": {}
      },
      "source": [
        "aapl_df['MA'] = aapl_df['Close'].rolling(window = 5).mean()"
      ],
      "execution_count": null,
      "outputs": []
    },
    {
      "cell_type": "code",
      "metadata": {
        "id": "HPVC0DJWMntY",
        "colab_type": "code",
        "colab": {},
        "outputId": "7cb8b348-2d75-43eb-c8e7-eba23b456a45"
      },
      "source": [
        "aapl_df.head(10)"
      ],
      "execution_count": null,
      "outputs": [
        {
          "output_type": "execute_result",
          "data": {
            "text/html": [
              "<div>\n",
              "<style scoped>\n",
              "    .dataframe tbody tr th:only-of-type {\n",
              "        vertical-align: middle;\n",
              "    }\n",
              "\n",
              "    .dataframe tbody tr th {\n",
              "        vertical-align: top;\n",
              "    }\n",
              "\n",
              "    .dataframe thead th {\n",
              "        text-align: right;\n",
              "    }\n",
              "</style>\n",
              "<table border=\"1\" class=\"dataframe\">\n",
              "  <thead>\n",
              "    <tr style=\"text-align: right;\">\n",
              "      <th></th>\n",
              "      <th>Open</th>\n",
              "      <th>High</th>\n",
              "      <th>Low</th>\n",
              "      <th>Close</th>\n",
              "      <th>Adj Close</th>\n",
              "      <th>Volume</th>\n",
              "      <th>MA</th>\n",
              "    </tr>\n",
              "    <tr>\n",
              "      <th>Date</th>\n",
              "      <th></th>\n",
              "      <th></th>\n",
              "      <th></th>\n",
              "      <th></th>\n",
              "      <th></th>\n",
              "      <th></th>\n",
              "      <th></th>\n",
              "    </tr>\n",
              "  </thead>\n",
              "  <tbody>\n",
              "    <tr>\n",
              "      <th>1980-12-12</th>\n",
              "      <td>0.513393</td>\n",
              "      <td>0.515625</td>\n",
              "      <td>0.513393</td>\n",
              "      <td>0.513393</td>\n",
              "      <td>0.410525</td>\n",
              "      <td>117258400.0</td>\n",
              "      <td>NaN</td>\n",
              "    </tr>\n",
              "    <tr>\n",
              "      <th>1980-12-15</th>\n",
              "      <td>0.488839</td>\n",
              "      <td>0.488839</td>\n",
              "      <td>0.486607</td>\n",
              "      <td>0.486607</td>\n",
              "      <td>0.389106</td>\n",
              "      <td>43971200.0</td>\n",
              "      <td>NaN</td>\n",
              "    </tr>\n",
              "    <tr>\n",
              "      <th>1980-12-16</th>\n",
              "      <td>0.453125</td>\n",
              "      <td>0.453125</td>\n",
              "      <td>0.450893</td>\n",
              "      <td>0.450893</td>\n",
              "      <td>0.360548</td>\n",
              "      <td>26432000.0</td>\n",
              "      <td>NaN</td>\n",
              "    </tr>\n",
              "    <tr>\n",
              "      <th>1980-12-17</th>\n",
              "      <td>0.462054</td>\n",
              "      <td>0.464286</td>\n",
              "      <td>0.462054</td>\n",
              "      <td>0.462054</td>\n",
              "      <td>0.369472</td>\n",
              "      <td>21610400.0</td>\n",
              "      <td>NaN</td>\n",
              "    </tr>\n",
              "    <tr>\n",
              "      <th>1980-12-18</th>\n",
              "      <td>0.475446</td>\n",
              "      <td>0.477679</td>\n",
              "      <td>0.475446</td>\n",
              "      <td>0.475446</td>\n",
              "      <td>0.380182</td>\n",
              "      <td>18362400.0</td>\n",
              "      <td>0.477679</td>\n",
              "    </tr>\n",
              "    <tr>\n",
              "      <th>1980-12-19</th>\n",
              "      <td>0.504464</td>\n",
              "      <td>0.506696</td>\n",
              "      <td>0.504464</td>\n",
              "      <td>0.504464</td>\n",
              "      <td>0.403385</td>\n",
              "      <td>12157600.0</td>\n",
              "      <td>0.475893</td>\n",
              "    </tr>\n",
              "    <tr>\n",
              "      <th>1980-12-22</th>\n",
              "      <td>0.529018</td>\n",
              "      <td>0.531250</td>\n",
              "      <td>0.529018</td>\n",
              "      <td>0.529018</td>\n",
              "      <td>0.423019</td>\n",
              "      <td>9340800.0</td>\n",
              "      <td>0.484375</td>\n",
              "    </tr>\n",
              "    <tr>\n",
              "      <th>1980-12-23</th>\n",
              "      <td>0.551339</td>\n",
              "      <td>0.553571</td>\n",
              "      <td>0.551339</td>\n",
              "      <td>0.551339</td>\n",
              "      <td>0.440868</td>\n",
              "      <td>11737600.0</td>\n",
              "      <td>0.504464</td>\n",
              "    </tr>\n",
              "    <tr>\n",
              "      <th>1980-12-24</th>\n",
              "      <td>0.580357</td>\n",
              "      <td>0.582589</td>\n",
              "      <td>0.580357</td>\n",
              "      <td>0.580357</td>\n",
              "      <td>0.464072</td>\n",
              "      <td>12000800.0</td>\n",
              "      <td>0.528125</td>\n",
              "    </tr>\n",
              "    <tr>\n",
              "      <th>1980-12-26</th>\n",
              "      <td>0.633929</td>\n",
              "      <td>0.636161</td>\n",
              "      <td>0.633929</td>\n",
              "      <td>0.633929</td>\n",
              "      <td>0.506909</td>\n",
              "      <td>13893600.0</td>\n",
              "      <td>0.559821</td>\n",
              "    </tr>\n",
              "  </tbody>\n",
              "</table>\n",
              "</div>"
            ],
            "text/plain": [
              "                Open      High       Low     Close  Adj Close       Volume  \\\n",
              "Date                                                                         \n",
              "1980-12-12  0.513393  0.515625  0.513393  0.513393   0.410525  117258400.0   \n",
              "1980-12-15  0.488839  0.488839  0.486607  0.486607   0.389106   43971200.0   \n",
              "1980-12-16  0.453125  0.453125  0.450893  0.450893   0.360548   26432000.0   \n",
              "1980-12-17  0.462054  0.464286  0.462054  0.462054   0.369472   21610400.0   \n",
              "1980-12-18  0.475446  0.477679  0.475446  0.475446   0.380182   18362400.0   \n",
              "1980-12-19  0.504464  0.506696  0.504464  0.504464   0.403385   12157600.0   \n",
              "1980-12-22  0.529018  0.531250  0.529018  0.529018   0.423019    9340800.0   \n",
              "1980-12-23  0.551339  0.553571  0.551339  0.551339   0.440868   11737600.0   \n",
              "1980-12-24  0.580357  0.582589  0.580357  0.580357   0.464072   12000800.0   \n",
              "1980-12-26  0.633929  0.636161  0.633929  0.633929   0.506909   13893600.0   \n",
              "\n",
              "                  MA  \n",
              "Date                  \n",
              "1980-12-12       NaN  \n",
              "1980-12-15       NaN  \n",
              "1980-12-16       NaN  \n",
              "1980-12-17       NaN  \n",
              "1980-12-18  0.477679  \n",
              "1980-12-19  0.475893  \n",
              "1980-12-22  0.484375  \n",
              "1980-12-23  0.504464  \n",
              "1980-12-24  0.528125  \n",
              "1980-12-26  0.559821  "
            ]
          },
          "metadata": {
            "tags": []
          },
          "execution_count": 6
        }
      ]
    },
    {
      "cell_type": "code",
      "metadata": {
        "id": "8T2tojw1Mnta",
        "colab_type": "code",
        "colab": {}
      },
      "source": [
        "type(aapl_df['Close'].rolling(window = 5))"
      ],
      "execution_count": null,
      "outputs": []
    },
    {
      "cell_type": "markdown",
      "metadata": {
        "id": "__TBxzVLMntb",
        "colab_type": "text"
      },
      "source": [
        "#### Resampling\n",
        "\n",
        "* Upsampling : 시계열을 Low frequency에서 high frequency로 변환한다. 누란된 데이터를 채우거나 보간하는 방법을 포함한다. (월간 -> 일)\n",
        "\n",
        "* Downsampling : 시계열을 high frequency에서 low frequency로 변환한다. 기존 데이터를 집계하는 것을 포함.(주간 -> 월 ) or (일간 -> 주간)\n",
        "\n",
        "=> 하지만 금융시계열 같은 경우는 각 시간 데이터가 중요하기에 Downsampling을 살펴보겠다"
      ]
    },
    {
      "cell_type": "code",
      "metadata": {
        "id": "_8thV7B7Mntd",
        "colab_type": "code",
        "colab": {}
      },
      "source": [
        "import pandas as pd\n",
        "index = pd.date_range(start = '2019-01-01',end= '2019-10-01',freq='B')\n",
        "series = pd.Series(range(len(index)), index=index)\n"
      ],
      "execution_count": null,
      "outputs": []
    },
    {
      "cell_type": "code",
      "metadata": {
        "id": "5gNmVvORMnte",
        "colab_type": "code",
        "colab": {}
      },
      "source": [
        "series.resample(rule='M').sum()"
      ],
      "execution_count": null,
      "outputs": []
    },
    {
      "cell_type": "code",
      "metadata": {
        "id": "1ZHbpSJQMnth",
        "colab_type": "code",
        "colab": {}
      },
      "source": [
        "series.resample(rule='M').last()"
      ],
      "execution_count": null,
      "outputs": []
    },
    {
      "cell_type": "code",
      "metadata": {
        "id": "UMDo4SvXMntk",
        "colab_type": "code",
        "colab": {}
      },
      "source": [
        "series.resample(rule='MS').first()"
      ],
      "execution_count": null,
      "outputs": []
    },
    {
      "cell_type": "markdown",
      "metadata": {
        "id": "zpMTa6yNMntm",
        "colab_type": "text"
      },
      "source": [
        "### 2장 Pandas 끝"
      ]
    },
    {
      "cell_type": "code",
      "metadata": {
        "id": "-eDtADrAMntn",
        "colab_type": "code",
        "colab": {}
      },
      "source": [
        ""
      ],
      "execution_count": null,
      "outputs": []
    }
  ]
}