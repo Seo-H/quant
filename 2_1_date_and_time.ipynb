{
  "nbformat": 4,
  "nbformat_minor": 0,
  "metadata": {
    "kernelspec": {
      "display_name": "Python 3",
      "language": "python",
      "name": "python3"
    },
    "language_info": {
      "codemirror_mode": {
        "name": "ipython",
        "version": 3
      },
      "file_extension": ".py",
      "mimetype": "text/x-python",
      "name": "python",
      "nbconvert_exporter": "python",
      "pygments_lexer": "ipython3",
      "version": "3.6.7"
    },
    "colab": {
      "name": "2.1.date and time.ipynb",
      "provenance": [],
      "include_colab_link": true
    }
  },
  "cells": [
    {
      "cell_type": "markdown",
      "metadata": {
        "id": "view-in-github",
        "colab_type": "text"
      },
      "source": [
        "<a href=\"https://colab.research.google.com/github/Seo-H/quant/blob/master/2_1_date_and_time.ipynb\" target=\"_parent\"><img src=\"https://colab.research.google.com/assets/colab-badge.svg\" alt=\"Open In Colab\"/></a>"
      ]
    },
    {
      "cell_type": "markdown",
      "metadata": {
        "id": "nKQjefYfEiLv",
        "colab_type": "text"
      },
      "source": [
        "### 2.1.1 파이썬 Datetime\n",
        "#### 날짜변환"
      ]
    },
    {
      "cell_type": "code",
      "metadata": {
        "id": "ebiCgEc1EiLw",
        "colab_type": "code",
        "colab": {},
        "outputId": "9ee2668a-6251-4752-9da0-6f1535e29ae1"
      },
      "source": [
        "import datetime\n",
        "format = '%Y-%m-%d %H:%M:%S' \n",
        "datetime_str = '2018-05-13 12:34:56'\n",
        "datetime_dt = datetime.datetime.strptime(datetime_str, format)\n",
        "print(type(datetime_dt))\n",
        "print(datetime_dt)"
      ],
      "execution_count": null,
      "outputs": [
        {
          "output_type": "stream",
          "text": [
            "<class 'datetime.datetime'>\n",
            "2018-05-13 12:34:56\n"
          ],
          "name": "stdout"
        }
      ]
    },
    {
      "cell_type": "code",
      "metadata": {
        "id": "7t2e-nhOEiL1",
        "colab_type": "code",
        "colab": {},
        "outputId": "1a48d370-c407-4a3c-b052-e835425d9001"
      },
      "source": [
        "datetime_str = datetime_dt.strftime('%Y-%m-%d %H:%M:%S')\n",
        "\n",
        "print(type(datetime_str)) # <class 'str'>\n",
        "print(datetime_str)       # 2018-08-24 18:00:25"
      ],
      "execution_count": null,
      "outputs": [
        {
          "output_type": "stream",
          "text": [
            "<class 'str'>\n",
            "2018-05-13 12:34:56\n"
          ],
          "name": "stdout"
        }
      ]
    },
    {
      "cell_type": "code",
      "metadata": {
        "id": "ttzD4NNMEiL6",
        "colab_type": "code",
        "colab": {},
        "outputId": "5a263f12-47d0-422a-98a4-1b946e55e036"
      },
      "source": [
        "datetime_str = datetime_dt.strftime('%Y-%m-%d %H')\n",
        "\n",
        "print(type(datetime_str)) # <class 'str'>\n",
        "print(datetime_str)       # 2018-08-24 18:00:25"
      ],
      "execution_count": null,
      "outputs": [
        {
          "output_type": "stream",
          "text": [
            "<class 'str'>\n",
            "2018-05-13 12\n"
          ],
          "name": "stdout"
        }
      ]
    },
    {
      "cell_type": "code",
      "metadata": {
        "id": "5BF2pm66EiMB",
        "colab_type": "code",
        "colab": {},
        "outputId": "0198faf8-8ce8-4974-9ffa-4002dbf8a03b"
      },
      "source": [
        "datetime_str = datetime_dt.strftime('%Y-%m')\n",
        "\n",
        "print(type(datetime_str)) # <class 'str'>\n",
        "print(datetime_str)       # 2018-08-24 18:00:25"
      ],
      "execution_count": null,
      "outputs": [
        {
          "output_type": "stream",
          "text": [
            "<class 'str'>\n",
            "2018-05\n"
          ],
          "name": "stdout"
        }
      ]
    },
    {
      "cell_type": "code",
      "metadata": {
        "id": "eGEA9rAnEiME",
        "colab_type": "code",
        "colab": {},
        "outputId": "66a04b04-08bc-4dcf-d852-56d716ca3d5a"
      },
      "source": [
        "import pandas as pd\n",
        "pd.to_datetime('2019-01-01')"
      ],
      "execution_count": null,
      "outputs": [
        {
          "output_type": "execute_result",
          "data": {
            "text/plain": [
              "Timestamp('2019-01-01 00:00:00')"
            ]
          },
          "metadata": {
            "tags": []
          },
          "execution_count": 6
        }
      ]
    },
    {
      "cell_type": "markdown",
      "metadata": {
        "id": "shwP4l_2EiMJ",
        "colab_type": "text"
      },
      "source": [
        "#### timedelta 객체 사용하기."
      ]
    },
    {
      "cell_type": "code",
      "metadata": {
        "id": "iLnAHQgNEiMK",
        "colab_type": "code",
        "colab": {},
        "outputId": "2bfe508e-f671-4a00-a834-c37c0667b660"
      },
      "source": [
        "import datetime\n",
        "# 임의의 시간간격을 정의한다.\n",
        "td = datetime.timedelta(days=100) # 100일을 뜻한다.\n",
        "datetime.datetime(2019,1,1) + td # 2019년 1월 1일 후 100일 뒤 날짜가 보인다."
      ],
      "execution_count": null,
      "outputs": [
        {
          "output_type": "execute_result",
          "data": {
            "text/plain": [
              "datetime.datetime(2019, 4, 11, 0, 0)"
            ]
          },
          "metadata": {
            "tags": []
          },
          "execution_count": 7
        }
      ]
    },
    {
      "cell_type": "code",
      "metadata": {
        "id": "oTPZHB39EiMN",
        "colab_type": "code",
        "colab": {},
        "outputId": "216d10ad-b41f-4a8b-8ddf-a7ad06d81a01"
      },
      "source": [
        "dt1 = datetime.datetime(2019, 1, 1, 14)\n",
        "dt2 = datetime.datetime(2019, 2, 1, 14)\n",
        "td = dt2 - dt1\n",
        "td  # 날짜 차이를 보여준다."
      ],
      "execution_count": null,
      "outputs": [
        {
          "output_type": "execute_result",
          "data": {
            "text/plain": [
              "datetime.timedelta(31)"
            ]
          },
          "metadata": {
            "tags": []
          },
          "execution_count": 8
        }
      ]
    },
    {
      "cell_type": "markdown",
      "metadata": {
        "id": "hoRtA3qSEiMR",
        "colab_type": "text"
      },
      "source": [
        "### 2.1.2 Numpy 날짜와 시간\n",
        "#### 1. datetime64 살펴보기"
      ]
    },
    {
      "cell_type": "code",
      "metadata": {
        "id": "tMrm33eQEiMS",
        "colab_type": "code",
        "colab": {},
        "outputId": "51d09517-b0f5-4707-d8c2-f55186e79bc9"
      },
      "source": [
        "import numpy as np\n",
        "np.datetime64(1000,'ns')"
      ],
      "execution_count": null,
      "outputs": [
        {
          "output_type": "execute_result",
          "data": {
            "text/plain": [
              "numpy.datetime64('1970-01-01T00:00:00.000001000')"
            ]
          },
          "metadata": {
            "tags": []
          },
          "execution_count": 9
        }
      ]
    },
    {
      "cell_type": "code",
      "metadata": {
        "id": "p7mJmRh_EiMU",
        "colab_type": "code",
        "colab": {},
        "outputId": "a7e9489a-1f25-43cc-9cd4-efa6a350672a"
      },
      "source": [
        "np.datetime64(10000000000,'ns')"
      ],
      "execution_count": null,
      "outputs": [
        {
          "output_type": "execute_result",
          "data": {
            "text/plain": [
              "numpy.datetime64('1970-01-01T00:00:10.000000000')"
            ]
          },
          "metadata": {
            "tags": []
          },
          "execution_count": 10
        }
      ]
    },
    {
      "cell_type": "code",
      "metadata": {
        "id": "h7vwgWfzEiMY",
        "colab_type": "code",
        "colab": {},
        "outputId": "c07d51f3-f16c-484b-fa7c-ffe0d8928370"
      },
      "source": [
        "np.datetime64(1000000000,'s')"
      ],
      "execution_count": null,
      "outputs": [
        {
          "output_type": "execute_result",
          "data": {
            "text/plain": [
              "numpy.datetime64('2001-09-09T01:46:40')"
            ]
          },
          "metadata": {
            "tags": []
          },
          "execution_count": 11
        }
      ]
    },
    {
      "cell_type": "code",
      "metadata": {
        "id": "VKTnTGFdEiMb",
        "colab_type": "code",
        "colab": {},
        "outputId": "f70b051e-288f-4c99-c783-cc7302933cc9"
      },
      "source": [
        "np.datetime64(10000,'D')"
      ],
      "execution_count": null,
      "outputs": [
        {
          "output_type": "execute_result",
          "data": {
            "text/plain": [
              "numpy.datetime64('1997-05-19')"
            ]
          },
          "metadata": {
            "tags": []
          },
          "execution_count": 12
        }
      ]
    },
    {
      "cell_type": "code",
      "metadata": {
        "id": "qRIfYJy5EiMe",
        "colab_type": "code",
        "colab": {},
        "outputId": "b25d0713-d3fe-4c92-d25e-0c5bbd5926df"
      },
      "source": [
        "#  str type을 ISO 8601 format을 이용해서 사용할 수 있다.\n",
        "import numpy as np\n",
        "np.datetime64('2019-01-01')"
      ],
      "execution_count": null,
      "outputs": [
        {
          "output_type": "execute_result",
          "data": {
            "text/plain": [
              "numpy.datetime64('2019-01-01')"
            ]
          },
          "metadata": {
            "tags": []
          },
          "execution_count": 13
        }
      ]
    },
    {
      "cell_type": "code",
      "metadata": {
        "id": "pX3ZMuFgEiMi",
        "colab_type": "code",
        "colab": {},
        "outputId": "2a039726-ad7e-4586-c310-a0c24dac596e"
      },
      "source": [
        "np.array(['2007-07-13', '2006-01-13', '2010-08-13'], dtype='datetime64')"
      ],
      "execution_count": null,
      "outputs": [
        {
          "output_type": "execute_result",
          "data": {
            "text/plain": [
              "array(['2007-07-13', '2006-01-13', '2010-08-13'], dtype='datetime64[D]')"
            ]
          },
          "metadata": {
            "tags": []
          },
          "execution_count": 14
        }
      ]
    },
    {
      "cell_type": "code",
      "metadata": {
        "id": "AiXJL0FlEiMl",
        "colab_type": "code",
        "colab": {},
        "outputId": "49d88744-9df8-49dc-90ff-892dcdb46108"
      },
      "source": [
        "np.arange('2005-02', '2006-03', dtype='datetime64[M]')"
      ],
      "execution_count": null,
      "outputs": [
        {
          "output_type": "execute_result",
          "data": {
            "text/plain": [
              "array(['2005-02', '2005-03', '2005-04', '2005-05', '2005-06', '2005-07',\n",
              "       '2005-08', '2005-09', '2005-10', '2005-11', '2005-12', '2006-01',\n",
              "       '2006-02'], dtype='datetime64[M]')"
            ]
          },
          "metadata": {
            "tags": []
          },
          "execution_count": 15
        }
      ]
    },
    {
      "cell_type": "code",
      "metadata": {
        "id": "Y1_s-Le1EiMp",
        "colab_type": "code",
        "colab": {},
        "outputId": "9fd3af22-390d-4344-8119-c87c20582237"
      },
      "source": [
        "np.datetime64('2009-01-01') - np.datetime64('2008-01')"
      ],
      "execution_count": null,
      "outputs": [
        {
          "output_type": "execute_result",
          "data": {
            "text/plain": [
              "numpy.timedelta64(366,'D')"
            ]
          },
          "metadata": {
            "tags": []
          },
          "execution_count": 16
        }
      ]
    },
    {
      "cell_type": "code",
      "metadata": {
        "id": "ehkdZvKnEiMr",
        "colab_type": "code",
        "colab": {},
        "outputId": "93815e98-2f13-441b-8c9b-91ee57f7bdca"
      },
      "source": [
        "np.datetime64('2009-01-01') - np.datetime64('2008-01-01')"
      ],
      "execution_count": null,
      "outputs": [
        {
          "output_type": "execute_result",
          "data": {
            "text/plain": [
              "numpy.timedelta64(366,'D')"
            ]
          },
          "metadata": {
            "tags": []
          },
          "execution_count": 17
        }
      ]
    },
    {
      "cell_type": "markdown",
      "metadata": {
        "id": "tWGQUYAnEiMu",
        "colab_type": "text"
      },
      "source": [
        "#### timedelta 살펴보기"
      ]
    },
    {
      "cell_type": "code",
      "metadata": {
        "id": "DnSLv7ZXEiMu",
        "colab_type": "code",
        "colab": {},
        "outputId": "abc36608-1d95-42c4-cb36-b190f7b2a92b"
      },
      "source": [
        "np.timedelta64(10, 'h') #10 hours"
      ],
      "execution_count": null,
      "outputs": [
        {
          "output_type": "execute_result",
          "data": {
            "text/plain": [
              "numpy.timedelta64(10,'h')"
            ]
          },
          "metadata": {
            "tags": []
          },
          "execution_count": 18
        }
      ]
    },
    {
      "cell_type": "code",
      "metadata": {
        "id": "gzMzPtPeEiMx",
        "colab_type": "code",
        "colab": {},
        "outputId": "e7262afa-94ba-4510-f4b4-81a516d9c5d9"
      },
      "source": [
        "np.datetime64('2019-01-01') + np.timedelta64(10, 'h')"
      ],
      "execution_count": null,
      "outputs": [
        {
          "output_type": "execute_result",
          "data": {
            "text/plain": [
              "numpy.datetime64('2019-01-01T10','h')"
            ]
          },
          "metadata": {
            "tags": []
          },
          "execution_count": 19
        }
      ]
    },
    {
      "cell_type": "markdown",
      "metadata": {
        "id": "u-hTI0BBEiM0",
        "colab_type": "text"
      },
      "source": [
        "### 2.1.3 pandas 예제 살펴보기"
      ]
    },
    {
      "cell_type": "code",
      "metadata": {
        "id": "T4njNO7LEiM0",
        "colab_type": "code",
        "colab": {}
      },
      "source": [
        "import pandas as pd"
      ],
      "execution_count": null,
      "outputs": []
    },
    {
      "cell_type": "code",
      "metadata": {
        "id": "TMCfBzFNEiM2",
        "colab_type": "code",
        "colab": {},
        "outputId": "624a6985-92be-412a-b2c9-960271977dfe"
      },
      "source": [
        "pd.Timestamp(1239.1238934) #defautls to nanoseconds"
      ],
      "execution_count": null,
      "outputs": [
        {
          "output_type": "execute_result",
          "data": {
            "text/plain": [
              "Timestamp('1970-01-01 00:00:00.000001239')"
            ]
          },
          "metadata": {
            "tags": []
          },
          "execution_count": 21
        }
      ]
    },
    {
      "cell_type": "code",
      "metadata": {
        "id": "umzNGmfPEiM5",
        "colab_type": "code",
        "colab": {},
        "outputId": "3aec237e-8b93-484e-e197-a7ed7552790f"
      },
      "source": [
        "pd.Timestamp(1239.1238934, unit='D') # change units"
      ],
      "execution_count": null,
      "outputs": [
        {
          "output_type": "execute_result",
          "data": {
            "text/plain": [
              "Timestamp('1973-05-24 02:58:24.389760')"
            ]
          },
          "metadata": {
            "tags": []
          },
          "execution_count": 22
        }
      ]
    },
    {
      "cell_type": "code",
      "metadata": {
        "id": "DfjKf2wkEiM8",
        "colab_type": "code",
        "colab": {},
        "outputId": "87732696-b76b-4681-a424-6d734f67b2a8"
      },
      "source": [
        "pd.Timestamp('2019-1-1') # partial strings work"
      ],
      "execution_count": null,
      "outputs": [
        {
          "output_type": "execute_result",
          "data": {
            "text/plain": [
              "Timestamp('2019-01-01 00:00:00')"
            ]
          },
          "metadata": {
            "tags": []
          },
          "execution_count": 23
        }
      ]
    },
    {
      "cell_type": "code",
      "metadata": {
        "id": "vMHZfYcbEiM-",
        "colab_type": "code",
        "colab": {},
        "outputId": "60863f50-05b5-4f33-b369-2c3ad5062c66"
      },
      "source": [
        "pd.to_datetime('2019-1-1 12')"
      ],
      "execution_count": null,
      "outputs": [
        {
          "output_type": "execute_result",
          "data": {
            "text/plain": [
              "Timestamp('2019-01-01 12:00:00')"
            ]
          },
          "metadata": {
            "tags": []
          },
          "execution_count": 24
        }
      ]
    },
    {
      "cell_type": "code",
      "metadata": {
        "id": "z5sRJGniEiNB",
        "colab_type": "code",
        "colab": {},
        "outputId": "7a398c57-eb46-40a9-e1af-ce994eba8e70"
      },
      "source": [
        "pd.to_datetime(['2018-1-1', '2019-1-2'])"
      ],
      "execution_count": null,
      "outputs": [
        {
          "output_type": "execute_result",
          "data": {
            "text/plain": [
              "DatetimeIndex(['2018-01-01', '2019-01-02'], dtype='datetime64[ns]', freq=None)"
            ]
          },
          "metadata": {
            "tags": []
          },
          "execution_count": 25
        }
      ]
    },
    {
      "cell_type": "code",
      "metadata": {
        "id": "GBD1od-oEiND",
        "colab_type": "code",
        "colab": {},
        "outputId": "382b568a-ab4d-4276-d4d3-7def804bc458"
      },
      "source": [
        "pd.date_range('2019-01','2019-02')"
      ],
      "execution_count": null,
      "outputs": [
        {
          "output_type": "execute_result",
          "data": {
            "text/plain": [
              "DatetimeIndex(['2019-01-01', '2019-01-02', '2019-01-03', '2019-01-04',\n",
              "               '2019-01-05', '2019-01-06', '2019-01-07', '2019-01-08',\n",
              "               '2019-01-09', '2019-01-10', '2019-01-11', '2019-01-12',\n",
              "               '2019-01-13', '2019-01-14', '2019-01-15', '2019-01-16',\n",
              "               '2019-01-17', '2019-01-18', '2019-01-19', '2019-01-20',\n",
              "               '2019-01-21', '2019-01-22', '2019-01-23', '2019-01-24',\n",
              "               '2019-01-25', '2019-01-26', '2019-01-27', '2019-01-28',\n",
              "               '2019-01-29', '2019-01-30', '2019-01-31', '2019-02-01'],\n",
              "              dtype='datetime64[ns]', freq='D')"
            ]
          },
          "metadata": {
            "tags": []
          },
          "execution_count": 26
        }
      ]
    },
    {
      "cell_type": "markdown",
      "metadata": {
        "id": "klviimRHEiNF",
        "colab_type": "text"
      },
      "source": [
        "#### Period"
      ]
    },
    {
      "cell_type": "code",
      "metadata": {
        "id": "m51J-yvZEiNG",
        "colab_type": "code",
        "colab": {},
        "outputId": "e0afd2f4-c634-4cfd-d62a-21cdd2b02c15"
      },
      "source": [
        "pd.Period('2019-01')"
      ],
      "execution_count": null,
      "outputs": [
        {
          "output_type": "execute_result",
          "data": {
            "text/plain": [
              "Period('2019-01', 'M')"
            ]
          },
          "metadata": {
            "tags": []
          },
          "execution_count": 27
        }
      ]
    },
    {
      "cell_type": "code",
      "metadata": {
        "id": "ko8Zua56EiNJ",
        "colab_type": "code",
        "colab": {},
        "outputId": "15988515-570a-4f4b-d661-345bbf2956f5"
      },
      "source": [
        "pd.Period('2019-05', freq='D')"
      ],
      "execution_count": null,
      "outputs": [
        {
          "output_type": "execute_result",
          "data": {
            "text/plain": [
              "Period('2019-05-01', 'D')"
            ]
          },
          "metadata": {
            "tags": []
          },
          "execution_count": 28
        }
      ]
    },
    {
      "cell_type": "code",
      "metadata": {
        "id": "SUHR044BEiNN",
        "colab_type": "code",
        "colab": {},
        "outputId": "0da6a2f6-0568-459c-ae20-2edca6a7cf10"
      },
      "source": [
        "pd.period_range('2019-01','2019-02',freq='D')"
      ],
      "execution_count": null,
      "outputs": [
        {
          "output_type": "execute_result",
          "data": {
            "text/plain": [
              "PeriodIndex(['2019-01-01', '2019-01-02', '2019-01-03', '2019-01-04',\n",
              "             '2019-01-05', '2019-01-06', '2019-01-07', '2019-01-08',\n",
              "             '2019-01-09', '2019-01-10', '2019-01-11', '2019-01-12',\n",
              "             '2019-01-13', '2019-01-14', '2019-01-15', '2019-01-16',\n",
              "             '2019-01-17', '2019-01-18', '2019-01-19', '2019-01-20',\n",
              "             '2019-01-21', '2019-01-22', '2019-01-23', '2019-01-24',\n",
              "             '2019-01-25', '2019-01-26', '2019-01-27', '2019-01-28',\n",
              "             '2019-01-29', '2019-01-30', '2019-01-31', '2019-02-01'],\n",
              "            dtype='period[D]', freq='D')"
            ]
          },
          "metadata": {
            "tags": []
          },
          "execution_count": 29
        }
      ]
    },
    {
      "cell_type": "markdown",
      "metadata": {
        "id": "vGoa1vi1EiNP",
        "colab_type": "text"
      },
      "source": [
        "### timestamp vs Time spans"
      ]
    },
    {
      "cell_type": "code",
      "metadata": {
        "id": "e2F9AgOGEiNP",
        "colab_type": "code",
        "colab": {},
        "outputId": "c305d233-e014-4bd3-8ffc-c3a5356ca66e"
      },
      "source": [
        "p = pd.Period('2019-06-13')\n",
        "test = pd.Timestamp('2019-06-13 22:11')\n",
        "p.start_time < test < p.end_time"
      ],
      "execution_count": null,
      "outputs": [
        {
          "output_type": "execute_result",
          "data": {
            "text/plain": [
              "True"
            ]
          },
          "metadata": {
            "tags": []
          },
          "execution_count": 30
        }
      ]
    },
    {
      "cell_type": "markdown",
      "metadata": {
        "id": "K6cb4HAFEiNS",
        "colab_type": "text"
      },
      "source": [
        "### Frequency"
      ]
    },
    {
      "cell_type": "code",
      "metadata": {
        "id": "oXqGuVklEiNT",
        "colab_type": "code",
        "colab": {},
        "outputId": "ccdf53ba-7e74-4b7a-c66c-7d886e2ace95"
      },
      "source": [
        "pd.date_range('2019-01','2019-02',freq='B')"
      ],
      "execution_count": null,
      "outputs": [
        {
          "output_type": "execute_result",
          "data": {
            "text/plain": [
              "DatetimeIndex(['2019-01-01', '2019-01-02', '2019-01-03', '2019-01-04',\n",
              "               '2019-01-07', '2019-01-08', '2019-01-09', '2019-01-10',\n",
              "               '2019-01-11', '2019-01-14', '2019-01-15', '2019-01-16',\n",
              "               '2019-01-17', '2019-01-18', '2019-01-21', '2019-01-22',\n",
              "               '2019-01-23', '2019-01-24', '2019-01-25', '2019-01-28',\n",
              "               '2019-01-29', '2019-01-30', '2019-01-31', '2019-02-01'],\n",
              "              dtype='datetime64[ns]', freq='B')"
            ]
          },
          "metadata": {
            "tags": []
          },
          "execution_count": 31
        }
      ]
    },
    {
      "cell_type": "code",
      "metadata": {
        "id": "JdKwzSbmEiNV",
        "colab_type": "code",
        "colab": {},
        "outputId": "1933079f-2d7b-43f4-afb8-d54d4f5dc2e1"
      },
      "source": [
        "pd.date_range('2019-01','2019-02',freq='W')"
      ],
      "execution_count": null,
      "outputs": [
        {
          "output_type": "execute_result",
          "data": {
            "text/plain": [
              "DatetimeIndex(['2019-01-06', '2019-01-13', '2019-01-20', '2019-01-27'], dtype='datetime64[ns]', freq='W-SUN')"
            ]
          },
          "metadata": {
            "tags": []
          },
          "execution_count": 32
        }
      ]
    },
    {
      "cell_type": "code",
      "metadata": {
        "id": "gc4w0DYjEiNX",
        "colab_type": "code",
        "colab": {},
        "outputId": "09d43634-fa0d-4ddc-860c-6247fb35a473"
      },
      "source": [
        "pd.date_range('2019-01','2019-02',freq='W-MON')"
      ],
      "execution_count": null,
      "outputs": [
        {
          "output_type": "execute_result",
          "data": {
            "text/plain": [
              "DatetimeIndex(['2019-01-07', '2019-01-14', '2019-01-21', '2019-01-28'], dtype='datetime64[ns]', freq='W-MON')"
            ]
          },
          "metadata": {
            "tags": []
          },
          "execution_count": 33
        }
      ]
    },
    {
      "cell_type": "markdown",
      "metadata": {
        "id": "i4P24MTMEiNZ",
        "colab_type": "text"
      },
      "source": [
        "### timedelata"
      ]
    },
    {
      "cell_type": "code",
      "metadata": {
        "id": "rOGwcueKEiNa",
        "colab_type": "code",
        "colab": {},
        "outputId": "203c00bc-19e2-4a8f-bb88-95b1f2c2c0df"
      },
      "source": [
        "#strings\n",
        "pd.Timedelta('1 days')\n",
        "pd.Timedelta('1 days 00:00:00')\n",
        "pd.Timedelta('1 days 2 hours')\n",
        "pd.Timedelta('-1 days 2 min 3us')"
      ],
      "execution_count": null,
      "outputs": [
        {
          "output_type": "execute_result",
          "data": {
            "text/plain": [
              "Timedelta('-2 days +23:57:59.999997')"
            ]
          },
          "metadata": {
            "tags": []
          },
          "execution_count": 34
        }
      ]
    },
    {
      "cell_type": "code",
      "metadata": {
        "id": "7TcPcU7MEiNd",
        "colab_type": "code",
        "colab": {},
        "outputId": "f610b434-30f4-41c7-caa8-9b59d0f9243c"
      },
      "source": [
        "pd.Timestamp('2019-1-1') + pd.Timedelta('1 days 2 hours')"
      ],
      "execution_count": null,
      "outputs": [
        {
          "output_type": "execute_result",
          "data": {
            "text/plain": [
              "Timestamp('2019-01-02 02:00:00')"
            ]
          },
          "metadata": {
            "tags": []
          },
          "execution_count": 35
        }
      ]
    },
    {
      "cell_type": "code",
      "metadata": {
        "id": "zdGkNiEmEiNf",
        "colab_type": "code",
        "colab": {},
        "outputId": "02a41c08-1411-4a17-efb3-9346041809ef"
      },
      "source": [
        "# like datetime.timedelta\n",
        "# note: these MUST be specified as keyword arguments\n",
        "pd.Timedelta(days=1, seconds=1)"
      ],
      "execution_count": null,
      "outputs": [
        {
          "output_type": "execute_result",
          "data": {
            "text/plain": [
              "Timedelta('1 days 00:00:01')"
            ]
          },
          "metadata": {
            "tags": []
          },
          "execution_count": 36
        }
      ]
    },
    {
      "cell_type": "code",
      "metadata": {
        "id": "XaIlcDRoEiNh",
        "colab_type": "code",
        "colab": {},
        "outputId": "49c48b7d-d163-413f-c386-fde9993fd361"
      },
      "source": [
        "pd.Timestamp('2019-1-1') + pd.Timedelta(days=1, seconds=1)"
      ],
      "execution_count": null,
      "outputs": [
        {
          "output_type": "execute_result",
          "data": {
            "text/plain": [
              "Timestamp('2019-01-02 00:00:01')"
            ]
          },
          "metadata": {
            "tags": []
          },
          "execution_count": 37
        }
      ]
    },
    {
      "cell_type": "code",
      "metadata": {
        "id": "OkQYFO2FEiNk",
        "colab_type": "code",
        "colab": {},
        "outputId": "a34b1062-111c-4bb2-e620-06b5abc69b27"
      },
      "source": [
        "# integers with a unit\n",
        "pd.Timedelta(1, unit='d')"
      ],
      "execution_count": null,
      "outputs": [
        {
          "output_type": "execute_result",
          "data": {
            "text/plain": [
              "Timedelta('1 days 00:00:00')"
            ]
          },
          "metadata": {
            "tags": []
          },
          "execution_count": 38
        }
      ]
    },
    {
      "cell_type": "code",
      "metadata": {
        "id": "YRRrZPbUEiNo",
        "colab_type": "code",
        "colab": {},
        "outputId": "9b36b703-c82c-405f-e3f2-2f69470b5f2d"
      },
      "source": [
        "pd.Timestamp('2019-1-1') + pd.Timedelta(1, unit='d')"
      ],
      "execution_count": null,
      "outputs": [
        {
          "output_type": "execute_result",
          "data": {
            "text/plain": [
              "Timestamp('2019-01-02 00:00:00')"
            ]
          },
          "metadata": {
            "tags": []
          },
          "execution_count": 39
        }
      ]
    },
    {
      "cell_type": "code",
      "metadata": {
        "id": "H5Yal6l9EiNp",
        "colab_type": "code",
        "colab": {},
        "outputId": "2010fca6-d3be-4b52-e731-3284a6b7c3cb"
      },
      "source": [
        "# from a datetime.timedelta/np.timedelta64\n",
        "pd.Timedelta(datetime.timedelta(days=1, seconds=1))"
      ],
      "execution_count": null,
      "outputs": [
        {
          "output_type": "execute_result",
          "data": {
            "text/plain": [
              "Timedelta('1 days 00:00:01')"
            ]
          },
          "metadata": {
            "tags": []
          },
          "execution_count": 40
        }
      ]
    },
    {
      "cell_type": "code",
      "metadata": {
        "id": "mqoOvvXxEiNt",
        "colab_type": "code",
        "colab": {},
        "outputId": "85fdda97-d748-4c6f-c324-f2ff2ce55751"
      },
      "source": [
        "pd.Timestamp('2019-1-1') + pd.Timedelta(datetime.timedelta(days=1, seconds=1))"
      ],
      "execution_count": null,
      "outputs": [
        {
          "output_type": "execute_result",
          "data": {
            "text/plain": [
              "Timestamp('2019-01-02 00:00:01')"
            ]
          },
          "metadata": {
            "tags": []
          },
          "execution_count": 41
        }
      ]
    },
    {
      "cell_type": "code",
      "metadata": {
        "id": "A-430aj4EiNw",
        "colab_type": "code",
        "colab": {},
        "outputId": "3fdc7204-172f-4d0e-faaa-5bf0af5046d2"
      },
      "source": [
        "pd.Timedelta(np.timedelta64(1, 'ms'))"
      ],
      "execution_count": null,
      "outputs": [
        {
          "output_type": "execute_result",
          "data": {
            "text/plain": [
              "Timedelta('0 days 00:00:00.001000')"
            ]
          },
          "metadata": {
            "tags": []
          },
          "execution_count": 42
        }
      ]
    },
    {
      "cell_type": "code",
      "metadata": {
        "id": "wAYlQntJEiNz",
        "colab_type": "code",
        "colab": {},
        "outputId": "6b83ed58-07e2-48c4-888f-83bb1ccb6c3d"
      },
      "source": [
        "pd.Timestamp('2019-1-1') + pd.Timedelta(np.timedelta64(1, 'ms'))"
      ],
      "execution_count": null,
      "outputs": [
        {
          "output_type": "execute_result",
          "data": {
            "text/plain": [
              "Timestamp('2019-01-01 00:00:00.001000')"
            ]
          },
          "metadata": {
            "tags": []
          },
          "execution_count": 43
        }
      ]
    },
    {
      "cell_type": "markdown",
      "metadata": {
        "id": "g3HQzAPBEiN2",
        "colab_type": "text"
      },
      "source": [
        "### Basic\n",
        "#### time 객체 사용하기.\n",
        "#### date 객체 사용하기.\n",
        "#### datetime 객체 사용하기."
      ]
    },
    {
      "cell_type": "code",
      "metadata": {
        "id": "sPFqflf2EiN2",
        "colab_type": "code",
        "colab": {},
        "outputId": "929df4a5-b6af-486d-8176-048a83179187"
      },
      "source": [
        "import datetime\n",
        "datetime.time(hour=4,minute=3,second=10,microsecond=1000)\n",
        "datetime.time(4,3,10)\n",
        "\n",
        "import datetime\n",
        "datetime.date(year=2019,month=1,day=10)\n",
        "datetime.date(2019,2,10)\n",
        "\n",
        "datetime.MINYEAR \n",
        "datetime.MAXYEAR\n",
        "\n",
        "import datetime\n",
        "datetime.datetime(year=2019,month=10,day=24,hour=4,minute=3,second=10,microsecond=1000)\n",
        "\n",
        "datetime.datetime(2019,10,1)\n",
        "# datetime.datetime('2019-01-01')"
      ],
      "execution_count": null,
      "outputs": [
        {
          "output_type": "execute_result",
          "data": {
            "text/plain": [
              "datetime.datetime(2019, 10, 1, 0, 0)"
            ]
          },
          "metadata": {
            "tags": []
          },
          "execution_count": 45
        }
      ]
    },
    {
      "cell_type": "code",
      "metadata": {
        "id": "IWRC7EQiEiN4",
        "colab_type": "code",
        "colab": {}
      },
      "source": [
        ""
      ],
      "execution_count": null,
      "outputs": []
    }
  ]
}